{
 "cells": [
  {
   "cell_type": "markdown",
   "metadata": {},
   "source": [
    "# WeatherPy\n",
    "----\n",
    "\n",
    "#### Note\n",
    "* Instructions have been included for each segment. You do not have to follow them exactly, but they are included to help you think through the steps."
   ]
  },
  {
   "cell_type": "code",
   "execution_count": 1,
   "metadata": {
    "scrolled": true
   },
   "outputs": [],
   "source": [
    "# Dependencies and Setup\n",
    "import matplotlib.pyplot as plt\n",
    "import pandas as pd\n",
    "import numpy as np\n",
    "import requests\n",
    "import time\n",
    "from scipy.stats import linregress\n",
    "\n",
    "# Import API key\n",
    "from api_keys import api_weather\n",
    "\n",
    "# Incorporated citipy to determine city based on latitude and longitude\n",
    "from citipy import citipy\n",
    "\n",
    "# Output File (CSV)\n",
    "output_data_file = \"output_data/cities.csv\"\n",
    "\n",
    "# Range of latitudes and longitudes\n",
    "lat_range = (-90, 90)\n",
    "lng_range = (-180, 180)"
   ]
  },
  {
   "cell_type": "markdown",
   "metadata": {},
   "source": [
    "## Generate Cities List"
   ]
  },
  {
   "cell_type": "code",
   "execution_count": 2,
   "metadata": {},
   "outputs": [
    {
     "data": {
      "text/plain": [
       "593"
      ]
     },
     "execution_count": 2,
     "metadata": {},
     "output_type": "execute_result"
    }
   ],
   "source": [
    "# List for holding lat_lngs and cities\n",
    "lat_lngs = []\n",
    "cities = []\n",
    "\n",
    "# Create a set of random lat and lng combinations\n",
    "lats = np.random.uniform(lat_range[0], lat_range[1], size=1500)\n",
    "lngs = np.random.uniform(lng_range[0], lng_range[1], size=1500)\n",
    "lat_lngs = zip(lats, lngs)\n",
    "\n",
    "# Identify nearest city for each lat, lng combination\n",
    "for lat_lng in lat_lngs:\n",
    "    city = citipy.nearest_city(lat_lng[0], lat_lng[1]).city_name\n",
    "    \n",
    "    # If the city is unique, then add it to a our cities list\n",
    "    if city not in cities:\n",
    "        cities.append(city)\n",
    "\n",
    "# Print the city count to confirm sufficient count\n",
    "len(cities)"
   ]
  },
  {
   "cell_type": "markdown",
   "metadata": {},
   "source": [
    "### Perform API Calls\n",
    "* Perform a weather check on each city using a series of successive API calls.\n",
    "* Include a print log of each city as it'sbeing processed (with the city number and city name).\n"
   ]
  },
  {
   "cell_type": "code",
   "execution_count": 3,
   "metadata": {
    "scrolled": true
   },
   "outputs": [
    {
     "name": "stdout",
     "output_type": "stream",
     "text": [
      "Beginning data retrieval\n",
      "--------------------------------\n",
      "Processing Record 0| kindu\n",
      "Processing Record 1| dauphin\n",
      "Processing Record 2| saint-philippe\n",
      "Processing Record 3| port hardy\n",
      "Processing Record 4| san quintin\n",
      "Processing Record 5| zhanakorgan\n",
      "Processing Record 6| manchar\n",
      "Processing Record 7| kabanjahe\n",
      "Processing Record 8| nikolskoye\n",
      "Processing Record 9| rikitea\n",
      "Processing Record 10| barrow\n",
      "Processing Record 11| catuday\n",
      "Processing Record 12| socond\n",
      "Processing Record 13| hamilton\n",
      "Processing Record 14| arraial do cabo\n",
      "Processing Record 15| tuktoyaktuk\n",
      "Processing Record 16| avarua\n",
      "Processing Record 17| hilo\n",
      "Processing Record 18| hermanus\n",
      "Processing Record 19| broken hill\n",
      "Processing Record 20| port alfred\n",
      "Processing Record 21| clyde river\n",
      "Processing Record 22| carnarvon\n",
      "Processing Record 23| georgetown\n",
      "Processing Record 24| tecpan\n",
      "Processing Record 25| burg\n",
      "Processing Record 26| punta arenas\n",
      "Processing Record 27| hobart\n",
      "Processing Record 28| vaini\n",
      "Processing Record 29| yar-sale\n",
      "Processing Record 30| izumo\n",
      "Processing Record 31| tura\n",
      "Processing Record 32| hithadhoo\n",
      "Processing Record 33| ilhabela\n",
      "Processing Record 34| wilhelmshaven\n",
      "Processing Record 35| cape town\n",
      "Processing Record 36| zeya\n",
      "Processing Record 37| namatanai\n",
      "Processing Record 38| abu samrah\n",
      "City not found....Skipping\n",
      "City not found....Skipping\n",
      "Processing Record 41| jaragua\n",
      "Processing Record 42| qaanaaq\n",
      "City not found....Skipping\n",
      "Processing Record 44| antalaha\n",
      "Processing Record 45| port lincoln\n",
      "Processing Record 46| haftoni\n",
      "Processing Record 47| torbay\n",
      "Processing Record 48| grand-lahou\n",
      "Processing Record 49| manacor\n",
      "Processing Record 50| albany\n",
      "Processing Record 51| chokurdakh\n",
      "Processing Record 52| koutiala\n",
      "Processing Record 53| thompson\n",
      "Processing Record 54| tomatlan\n",
      "Processing Record 55| elektrenai\n",
      "Processing Record 56| ribeira grande\n",
      "Processing Record 57| yellowknife\n",
      "Processing Record 58| saint-augustin\n",
      "City not found....Skipping\n",
      "Processing Record 60| castro\n",
      "Processing Record 61| kapaa\n",
      "Processing Record 62| khatanga\n",
      "Processing Record 63| baykit\n",
      "Processing Record 64| esperance\n",
      "Processing Record 65| mayo\n",
      "Processing Record 66| kloulklubed\n",
      "Processing Record 67| mahebourg\n",
      "Processing Record 68| makakilo city\n",
      "Processing Record 69| salinas\n",
      "Processing Record 70| poum\n",
      "Processing Record 71| lompoc\n",
      "Processing Record 72| pochutla\n",
      "Processing Record 73| salalah\n",
      "Processing Record 74| lebu\n",
      "City not found....Skipping\n",
      "Processing Record 76| norman wells\n",
      "Processing Record 77| catamarca\n",
      "Processing Record 78| kaitangata\n",
      "Processing Record 79| la ronge\n",
      "Processing Record 80| yulara\n",
      "Processing Record 81| camalu\n",
      "Processing Record 82| gloversville\n",
      "Processing Record 83| segou\n",
      "Processing Record 84| wilmington\n",
      "Processing Record 85| bonavista\n",
      "City not found....Skipping\n",
      "Processing Record 87| ancud\n",
      "Processing Record 88| atuona\n",
      "Processing Record 89| limerick\n",
      "Processing Record 90| pedernales\n",
      "Processing Record 91| kahului\n",
      "City not found....Skipping\n",
      "City not found....Skipping\n",
      "Processing Record 94| bestobe\n",
      "Processing Record 95| ushuaia\n",
      "Processing Record 96| talnakh\n",
      "Processing Record 97| newton\n",
      "Processing Record 98| butaritari\n",
      "Processing Record 99| puerto ayora\n",
      "Processing Record 100| hualmay\n",
      "Processing Record 101| cherskiy\n",
      "Processing Record 102| lufilufi\n",
      "Processing Record 103| taoudenni\n",
      "Processing Record 104| geraldton\n",
      "City not found....Skipping\n",
      "Processing Record 106| bereda\n",
      "Processing Record 107| bluff\n",
      "Processing Record 108| doha\n",
      "Processing Record 109| sakakah\n",
      "City not found....Skipping\n",
      "Processing Record 111| berlevag\n",
      "Processing Record 112| hasaki\n",
      "Processing Record 113| busselton\n",
      "City not found....Skipping\n",
      "Processing Record 115| mataura\n",
      "Processing Record 116| hirara\n",
      "City not found....Skipping\n",
      "Processing Record 118| meulaboh\n",
      "Processing Record 119| prata\n",
      "Processing Record 120| jamestown\n",
      "City not found....Skipping\n",
      "Processing Record 122| nerchinskiy zavod\n",
      "Processing Record 123| san jose\n",
      "Processing Record 124| waw\n",
      "Processing Record 125| virtsu\n",
      "Processing Record 126| nacogdoches\n",
      "Processing Record 127| kavieng\n",
      "Processing Record 128| doka\n",
      "Processing Record 129| atasu\n",
      "Processing Record 130| pontes e lacerda\n",
      "Processing Record 131| new norfolk\n",
      "Processing Record 132| flinders\n",
      "Processing Record 133| nokia\n",
      "Processing Record 134| uchaly\n",
      "Processing Record 135| kodiak\n",
      "Processing Record 136| east london\n",
      "Processing Record 137| faanui\n",
      "Processing Record 138| lazarev\n",
      "Processing Record 139| chuy\n",
      "Processing Record 140| bathsheba\n",
      "City not found....Skipping\n",
      "Processing Record 142| bawku\n",
      "Processing Record 143| vila velha\n",
      "Processing Record 144| zrenjanin\n",
      "Processing Record 145| srednekolymsk\n",
      "Processing Record 146| mar del plata\n",
      "Processing Record 147| mulanur\n",
      "Processing Record 148| tiksi\n",
      "Processing Record 149| annau\n",
      "Processing Record 150| samarai\n",
      "Processing Record 151| queanbeyan\n",
      "Processing Record 152| leningradskiy\n",
      "Processing Record 153| olafsvik\n",
      "Processing Record 154| rocha\n",
      "Processing Record 155| ponta do sol\n",
      "Processing Record 156| willowmore\n",
      "Processing Record 157| manokwari\n",
      "Processing Record 158| bredasdorp\n",
      "Processing Record 159| aklavik\n",
      "Processing Record 160| te anau\n",
      "Processing Record 161| kadaya\n",
      "Processing Record 162| port elizabeth\n",
      "Processing Record 163| dong xoai\n",
      "Processing Record 164| lapeer\n",
      "Processing Record 165| neiafu\n",
      "Processing Record 166| tuatapere\n",
      "Processing Record 167| matara\n",
      "Processing Record 168| beira\n",
      "Processing Record 169| nanortalik\n",
      "Processing Record 170| talcahuano\n",
      "City not found....Skipping\n",
      "Processing Record 172| viedma\n",
      "City not found....Skipping\n",
      "Processing Record 174| fuzhou\n",
      "Processing Record 175| bonfim\n",
      "Processing Record 176| sterling\n",
      "Processing Record 177| chapais\n",
      "Processing Record 178| vila\n",
      "Processing Record 179| banepa\n",
      "Processing Record 180| anaconda\n",
      "Processing Record 181| dasoguz\n",
      "Processing Record 182| santa ines\n",
      "Processing Record 183| victoria\n",
      "City not found....Skipping\n",
      "Processing Record 185| vakhrushev\n",
      "City not found....Skipping\n",
      "Processing Record 187| asfi\n",
      "Processing Record 188| cabo san lucas\n",
      "Processing Record 189| baculin\n",
      "Processing Record 190| san juan\n",
      "Processing Record 191| yucaipa\n",
      "Processing Record 192| isangel\n",
      "City not found....Skipping\n",
      "Processing Record 194| ajdabiya\n",
      "Processing Record 195| dingle\n",
      "Processing Record 196| walvis bay\n",
      "Processing Record 197| copiapo\n",
      "Processing Record 198| saint george\n",
      "Processing Record 199| ornskoldsvik\n",
      "City not found....Skipping\n",
      "Processing Record 201| marco\n",
      "Processing Record 202| katwijk\n",
      "Processing Record 203| varadero\n",
      "City not found....Skipping\n",
      "Processing Record 205| akyab\n",
      "Processing Record 206| puerto escondido\n",
      "Processing Record 207| coquimbo\n",
      "Processing Record 208| mazyr\n",
      "Processing Record 209| tacuarembo\n",
      "Processing Record 210| farafangana\n",
      "City not found....Skipping\n",
      "Processing Record 212| urumqi\n",
      "Processing Record 213| behat\n",
      "Processing Record 214| biritiba-mirim\n",
      "Processing Record 215| swan hill\n",
      "Processing Record 216| coari\n",
      "Processing Record 217| bara\n",
      "Processing Record 218| vila franca do campo\n",
      "Processing Record 219| dikson\n",
      "Processing Record 220| guacimo\n",
      "Processing Record 221| bintulu\n",
      "Processing Record 222| ulaangom\n",
      "Processing Record 223| kirensk\n",
      "Processing Record 224| peretu\n",
      "Processing Record 225| codrington\n",
      "Processing Record 226| saskylakh\n",
      "Processing Record 227| kandrian\n",
      "Processing Record 228| aripuana\n",
      "Processing Record 229| araouane\n",
      "City not found....Skipping\n",
      "Processing Record 231| baruun-urt\n",
      "Processing Record 232| cayenne\n",
      "Processing Record 233| kalavad\n",
      "Processing Record 234| lisala\n",
      "Processing Record 235| patterson\n",
      "Processing Record 236| salgar\n",
      "Processing Record 237| mnogovershinnyy\n",
      "Processing Record 238| bengkulu\n",
      "Processing Record 239| kasongo-lunda\n",
      "Processing Record 240| skeldon\n",
      "Processing Record 241| ilulissat\n",
      "Processing Record 242| leshukonskoye\n",
      "Processing Record 243| gladstone\n",
      "Processing Record 244| putina\n",
      "Processing Record 245| termiz\n",
      "Processing Record 246| ushtobe\n",
      "Processing Record 247| khani\n",
      "Processing Record 248| magadi\n",
      "Processing Record 249| caborca\n",
      "Processing Record 250| pevek\n",
      "Processing Record 251| iqaluit\n",
      "Processing Record 252| harper\n",
      "Processing Record 253| alta floresta\n",
      "Processing Record 254| kutum\n",
      "Processing Record 255| pangnirtung\n",
      "Processing Record 256| bambous virieux\n",
      "Processing Record 257| saint-pierre\n",
      "Processing Record 258| san patricio\n",
      "Processing Record 259| kigorobya\n"
     ]
    },
    {
     "name": "stdout",
     "output_type": "stream",
     "text": [
      "Processing Record 260| conde\n",
      "Processing Record 261| nehe\n",
      "Processing Record 262| coahuayana\n",
      "Processing Record 263| bethel\n",
      "Processing Record 264| raudeberg\n",
      "Processing Record 265| shoreline\n",
      "Processing Record 266| pacasmayo\n",
      "Processing Record 267| olinda\n",
      "Processing Record 268| provideniya\n",
      "Processing Record 269| upernavik\n",
      "Processing Record 270| oxford\n",
      "Processing Record 271| namibe\n",
      "Processing Record 272| camacha\n",
      "Processing Record 273| whitefish\n",
      "Processing Record 274| shekhupura\n",
      "Processing Record 275| motomiya\n",
      "Processing Record 276| straumen\n",
      "Processing Record 277| port macquarie\n",
      "Processing Record 278| puerto quijarro\n",
      "Processing Record 279| lavrentiya\n",
      "Processing Record 280| mount gambier\n",
      "Processing Record 281| mlonggo\n",
      "Processing Record 282| chara\n",
      "Processing Record 283| villanueva de la serena\n",
      "Processing Record 284| vila nova de milfontes\n",
      "Processing Record 285| shirokiy\n",
      "Processing Record 286| borogontsy\n",
      "Processing Record 287| dabwali\n",
      "Processing Record 288| santa maria\n",
      "Processing Record 289| padang\n",
      "Processing Record 290| labuhan\n",
      "Processing Record 291| komsomolskiy\n",
      "Processing Record 292| tasiilaq\n",
      "Processing Record 293| rosetta\n",
      "Processing Record 294| souillac\n",
      "Processing Record 295| nampula\n",
      "Processing Record 296| marsabit\n",
      "Processing Record 297| jalingo\n",
      "Processing Record 298| kathu\n",
      "Processing Record 299| cidreira\n",
      "Processing Record 300| kuruman\n",
      "Processing Record 301| quang ngai\n",
      "Processing Record 302| suez\n",
      "Processing Record 303| oktyabrskiy\n",
      "Processing Record 304| oksovskiy\n",
      "Processing Record 305| pitimbu\n",
      "Processing Record 306| gabrovo\n",
      "Processing Record 307| todos santos\n",
      "Processing Record 308| nova granada\n",
      "Processing Record 309| luderitz\n",
      "Processing Record 310| fortuna\n",
      "Processing Record 311| svetlogorsk\n",
      "Processing Record 312| la rochelle\n",
      "Processing Record 313| anloga\n",
      "Processing Record 314| vao\n",
      "Processing Record 315| vung tau\n",
      "Processing Record 316| stonewall\n",
      "Processing Record 317| coxim\n",
      "Processing Record 318| dunedin\n",
      "Processing Record 319| verkhnyaya inta\n",
      "Processing Record 320| nemuro\n",
      "Processing Record 321| alta gracia\n",
      "Processing Record 322| banda aceh\n",
      "Processing Record 323| guerrero negro\n",
      "Processing Record 324| yerbogachen\n",
      "Processing Record 325| shimoda\n",
      "Processing Record 326| jiuquan\n",
      "Processing Record 327| mineros\n",
      "Processing Record 328| havoysund\n",
      "Processing Record 329| mehamn\n",
      "Processing Record 330| grindavik\n",
      "Processing Record 331| san cristobal\n",
      "City not found....Skipping\n",
      "Processing Record 333| arraias\n",
      "Processing Record 334| maumere\n",
      "Processing Record 335| jaguariaiva\n",
      "Processing Record 336| fairbanks\n",
      "Processing Record 337| newport\n",
      "Processing Record 338| billings\n",
      "Processing Record 339| dalbandin\n",
      "Processing Record 340| longmont\n",
      "Processing Record 341| eruwa\n",
      "Processing Record 342| kalanwali\n",
      "City not found....Skipping\n",
      "Processing Record 344| richards bay\n",
      "Processing Record 345| weston\n",
      "Processing Record 346| xining\n",
      "Processing Record 347| livingston\n",
      "Processing Record 348| mastic beach\n",
      "Processing Record 349| college\n",
      "City not found....Skipping\n",
      "Processing Record 351| kununurra\n",
      "Processing Record 352| honiara\n",
      "Processing Record 353| lithakia\n",
      "Processing Record 354| biak\n",
      "Processing Record 355| byron bay\n",
      "Processing Record 356| faya\n",
      "Processing Record 357| piranhas\n",
      "Processing Record 358| camargo\n",
      "Processing Record 359| piacabucu\n",
      "Processing Record 360| chake chake\n",
      "Processing Record 361| sitka\n",
      "Processing Record 362| atar\n",
      "City not found....Skipping\n",
      "Processing Record 364| george\n",
      "Processing Record 365| marsa matruh\n",
      "Processing Record 366| hwange\n",
      "Processing Record 367| kabompo\n",
      "Processing Record 368| charters towers\n",
      "Processing Record 369| glenwood springs\n",
      "Processing Record 370| nome\n",
      "Processing Record 371| zhengjiatun\n",
      "Processing Record 372| selfoss\n",
      "Processing Record 373| tilichiki\n",
      "Processing Record 374| inirida\n",
      "Processing Record 375| vanavara\n",
      "Processing Record 376| bandarban\n",
      "Processing Record 377| nynashamn\n",
      "Processing Record 378| ramsar\n",
      "Processing Record 379| caravelas\n",
      "Processing Record 380| beniganj\n",
      "City not found....Skipping\n",
      "Processing Record 382| verkhnevilyuysk\n",
      "Processing Record 383| at-bashi\n",
      "Processing Record 384| ugoofaaru\n",
      "City not found....Skipping\n",
      "Processing Record 386| likasi\n",
      "Processing Record 387| ahipara\n",
      "Processing Record 388| dawei\n",
      "Processing Record 389| ust-tsilma\n",
      "Processing Record 390| vostok\n",
      "Processing Record 391| kyrksaeterora\n",
      "City not found....Skipping\n",
      "Processing Record 393| kansk\n",
      "Processing Record 394| qaqortoq\n",
      "Processing Record 395| santa maria da boa vista\n",
      "Processing Record 396| evensk\n",
      "Processing Record 397| ayan\n",
      "Processing Record 398| salmas\n",
      "Processing Record 399| dvinskoy\n",
      "Processing Record 400| san francisco\n",
      "Processing Record 401| ambilobe\n",
      "Processing Record 402| port hawkesbury\n",
      "Processing Record 403| los llanos de aridane\n",
      "Processing Record 404| anadyr\n",
      "Processing Record 405| kipushi\n",
      "Processing Record 406| zoniana\n",
      "Processing Record 407| sisophon\n",
      "Processing Record 408| yaan\n",
      "Processing Record 409| yago\n",
      "Processing Record 410| airai\n",
      "Processing Record 411| ucluelet\n",
      "Processing Record 412| santander\n",
      "Processing Record 413| beirut\n",
      "Processing Record 414| hofn\n",
      "Processing Record 415| dwarka\n",
      "Processing Record 416| bulls\n",
      "Processing Record 417| primorsk\n",
      "Processing Record 418| araceli\n",
      "Processing Record 419| kifri\n",
      "City not found....Skipping\n",
      "Processing Record 421| bandarbeyla\n",
      "Processing Record 422| koygorodok\n",
      "City not found....Skipping\n",
      "Processing Record 424| corsicana\n",
      "Processing Record 425| sibolga\n",
      "City not found....Skipping\n",
      "Processing Record 427| logrono\n",
      "City not found....Skipping\n",
      "Processing Record 429| arroyo\n",
      "Processing Record 430| kruisfontein\n",
      "Processing Record 431| christchurch\n",
      "Processing Record 432| fonte boa\n",
      "City not found....Skipping\n",
      "Processing Record 434| nelson\n",
      "Processing Record 435| nola\n",
      "Processing Record 436| palora\n",
      "Processing Record 437| zhigalovo\n",
      "Processing Record 438| kishni\n",
      "Processing Record 439| uhlove\n",
      "Processing Record 440| cangzhou\n",
      "Processing Record 441| pangkalanbuun\n",
      "Processing Record 442| bangalore\n",
      "Processing Record 443| marshall\n",
      "Processing Record 444| santiago del estero\n",
      "Processing Record 445| ron\n",
      "Processing Record 446| bowen\n",
      "Processing Record 447| antofagasta\n",
      "Processing Record 448| mochudi\n",
      "Processing Record 449| nador\n",
      "Processing Record 450| omboue\n",
      "City not found....Skipping\n",
      "Processing Record 452| pitmoaga\n",
      "Processing Record 453| derzhavinsk\n",
      "Processing Record 454| manoharpur\n",
      "Processing Record 455| uvira\n",
      "Processing Record 456| bjerkvik\n",
      "Processing Record 457| wyndham\n",
      "Processing Record 458| lahat\n",
      "City not found....Skipping\n",
      "Processing Record 460| carballo\n",
      "Processing Record 461| mayna\n",
      "Processing Record 462| dalmatovo\n",
      "Processing Record 463| anju\n",
      "Processing Record 464| compiegne\n",
      "Processing Record 465| sile\n",
      "Processing Record 466| chimbote\n",
      "Processing Record 467| portland\n",
      "Processing Record 468| naze\n",
      "Processing Record 469| laguna\n",
      "Processing Record 470| csorvas\n",
      "City not found....Skipping\n",
      "Processing Record 472| nanlong\n",
      "Processing Record 473| sawtell\n",
      "Processing Record 474| panama city\n",
      "Processing Record 475| vestmannaeyjar\n",
      "Processing Record 476| mao\n",
      "Processing Record 477| san giljan\n",
      "Processing Record 478| ndele\n",
      "Processing Record 479| port hedland\n",
      "Processing Record 480| talaya\n",
      "City not found....Skipping\n",
      "City not found....Skipping\n",
      "Processing Record 483| zhovtneve\n",
      "Processing Record 484| katsuura\n",
      "Processing Record 485| arona\n",
      "Processing Record 486| melfi\n",
      "Processing Record 487| havre-saint-pierre\n",
      "Processing Record 488| shache\n",
      "Processing Record 489| tabuk\n",
      "Processing Record 490| yukamenskoye\n",
      "Processing Record 491| moose factory\n",
      "Processing Record 492| juneau\n",
      "Processing Record 493| klaksvik\n",
      "Processing Record 494| beringovskiy\n",
      "Processing Record 495| jiayuguan\n",
      "Processing Record 496| broome\n",
      "Processing Record 497| tautira\n",
      "Processing Record 498| mezen\n",
      "Processing Record 499| westport\n",
      "Processing Record 500| pisco\n",
      "Processing Record 501| lodja\n",
      "Processing Record 502| roald\n",
      "Processing Record 503| lazaro cardenas\n",
      "Processing Record 504| champerico\n",
      "Processing Record 505| alice springs\n",
      "Processing Record 506| pimenteiras\n",
      "Processing Record 507| kon tum\n",
      "Processing Record 508| bon air\n",
      "Processing Record 509| twin falls\n",
      "Processing Record 510| umm lajj\n",
      "Processing Record 511| puerto padre\n",
      "Processing Record 512| rockland\n",
      "Processing Record 513| maturin\n",
      "City not found....Skipping\n",
      "Processing Record 515| totma\n",
      "Processing Record 516| russell\n"
     ]
    },
    {
     "name": "stdout",
     "output_type": "stream",
     "text": [
      "Processing Record 517| bontang\n",
      "Processing Record 518| irbil\n",
      "Processing Record 519| bacolod\n",
      "Processing Record 520| monteagudo\n",
      "Processing Record 521| avera\n",
      "Processing Record 522| hinatuan\n",
      "City not found....Skipping\n",
      "Processing Record 524| smoky lake\n",
      "Processing Record 525| gaillac\n",
      "Processing Record 526| nsunga\n",
      "City not found....Skipping\n",
      "Processing Record 528| farafenni\n",
      "Processing Record 529| kupino\n",
      "Processing Record 530| denpasar\n",
      "Processing Record 531| masallatah\n",
      "Processing Record 532| vega de alatorre\n",
      "Processing Record 533| prince rupert\n",
      "Processing Record 534| muli\n",
      "Processing Record 535| phonhong\n",
      "Processing Record 536| jabinyanah\n",
      "Processing Record 537| saldanha\n",
      "Processing Record 538| lukovetskiy\n",
      "Processing Record 539| aswan\n",
      "Processing Record 540| cotonou\n",
      "Processing Record 541| ilo\n",
      "Processing Record 542| bandar-e lengeh\n",
      "Processing Record 543| yurginskoye\n",
      "Processing Record 544| hami\n",
      "Processing Record 545| great yarmouth\n",
      "Processing Record 546| tome\n",
      "Processing Record 547| papetoai\n",
      "Processing Record 548| santa cruz\n",
      "Processing Record 549| bonito\n",
      "Processing Record 550| ozernovskiy\n",
      "Processing Record 551| sfantu gheorghe\n",
      "Processing Record 552| itarema\n",
      "Processing Record 553| tizimin\n",
      "Processing Record 554| wewak\n",
      "Processing Record 555| manakara\n",
      "City not found....Skipping\n",
      "Processing Record 557| estelle\n",
      "Processing Record 558| madera\n",
      "Processing Record 559| batagay-alyta\n",
      "Processing Record 560| roma\n",
      "Processing Record 561| hoquiam\n",
      "Processing Record 562| bongandanga\n",
      "Processing Record 563| spring valley\n",
      "Processing Record 564| margate\n",
      "Processing Record 565| lanzhou\n",
      "Processing Record 566| rabat\n",
      "Processing Record 567| sakib\n",
      "Processing Record 568| boardman\n",
      "Processing Record 569| orlik\n",
      "Processing Record 570| peniche\n",
      "Processing Record 571| monte patria\n",
      "Processing Record 572| rawah\n",
      "Processing Record 573| buchanan\n",
      "Processing Record 574| lively\n",
      "Processing Record 575| awjilah\n",
      "Processing Record 576| del rio\n",
      "Processing Record 577| narsaq\n",
      "City not found....Skipping\n",
      "Processing Record 579| cairns\n",
      "Processing Record 580| anisoc\n",
      "Processing Record 581| kosa\n",
      "Processing Record 582| sobolevo\n",
      "City not found....Skipping\n",
      "Processing Record 584| tarko-sale\n",
      "Processing Record 585| kumluca\n",
      "Processing Record 586| jackson\n",
      "Processing Record 587| khovu-aksy\n",
      "Processing Record 588| odweyne\n",
      "Processing Record 589| luwuk\n",
      "Processing Record 590| manadhoo\n",
      "Processing Record 591| onguday\n",
      "Processing Record 592| porto santo\n",
      "--------------------------------\n",
      "Data retrieval complete\n",
      "--------------------------------\n"
     ]
    }
   ],
   "source": [
    "# Create a for loop to run through each city in the cities list, creata a list to hold info for data frame\n",
    "city_name = []\n",
    "latitude = []\n",
    "longitude = []\n",
    "max_temp = []\n",
    "humidity = []\n",
    "cloudiness = []\n",
    "wind_speed = []\n",
    "country = []\n",
    "date = []\n",
    "print(f\"Beginning data retrieval\")\n",
    "print(f\"--------------------------------\")\n",
    "for i,city in enumerate(cities):\n",
    "\n",
    "# Create the URL for the corresponding city\n",
    "    url = f\"https://api.openweathermap.org/data/2.5/weather?q={city}&appid={api_weather}&units=imperial\"\n",
    "    \n",
    "# Perform the \"requests.get().json()\"\n",
    "    response = requests.get(url).json()\n",
    "    if \"main\" not in response:\n",
    "        print(f\"City not found....Skipping\")\n",
    "        continue\n",
    "\n",
    "# Get the info for the data frame (store into lists using .append)\n",
    "    city_name.append(response[\"name\"])\n",
    "    latitude.append(response[\"coord\"][\"lat\"])\n",
    "    longitude.append(response[\"coord\"][\"lon\"])\n",
    "    max_temp.append(response[\"main\"][\"temp_max\"])\n",
    "    humidity.append(response[\"main\"][\"humidity\"])\n",
    "    cloudiness.append(response[\"clouds\"][\"all\"])\n",
    "    wind_speed.append(response[\"wind\"][\"speed\"])\n",
    "    country.append(response[\"sys\"][\"country\"])\n",
    "    date.append(response[\"dt\"])\n",
    "\n",
    "# Print out the correct string \"Processing Record #| city_name\"\n",
    "    print(f'Processing Record {i}| {city}')\n",
    "print(f\"--------------------------------\")\n",
    "print(f\"Data retrieval complete\")\n",
    "print(f\"--------------------------------\")"
   ]
  },
  {
   "cell_type": "markdown",
   "metadata": {},
   "source": [
    "### Convert Raw Data to DataFrame\n",
    "* Export the city data into a .csv.\n",
    "* Display the DataFrame"
   ]
  },
  {
   "cell_type": "code",
   "execution_count": 4,
   "metadata": {},
   "outputs": [],
   "source": [
    "city_info = {\"City\":city_name,\n",
    "             \"Lat\":latitude,\n",
    "             \"Lng\":longitude,\n",
    "             \"Max Temp\":max_temp,\n",
    "             \"Humidity\":humidity,\n",
    "             \"Cloudiness\":cloudiness,\n",
    "             \"Wind Speed\":wind_speed,\n",
    "             \"Country\":country,\n",
    "             \"Date\":date\n",
    "             }\n",
    "city_df = pd.DataFrame(city_info)\n",
    "city_df.head()\n",
    "\n",
    "# Save the data fram in a .csv file\n",
    "city_df.to_csv('city_df.csv', index = False, header=True)"
   ]
  },
  {
   "cell_type": "code",
   "execution_count": 5,
   "metadata": {},
   "outputs": [
    {
     "data": {
      "text/html": [
       "<div>\n",
       "<style scoped>\n",
       "    .dataframe tbody tr th:only-of-type {\n",
       "        vertical-align: middle;\n",
       "    }\n",
       "\n",
       "    .dataframe tbody tr th {\n",
       "        vertical-align: top;\n",
       "    }\n",
       "\n",
       "    .dataframe thead th {\n",
       "        text-align: right;\n",
       "    }\n",
       "</style>\n",
       "<table border=\"1\" class=\"dataframe\">\n",
       "  <thead>\n",
       "    <tr style=\"text-align: right;\">\n",
       "      <th></th>\n",
       "      <th>Lat</th>\n",
       "      <th>Lng</th>\n",
       "      <th>Max Temp</th>\n",
       "      <th>Humidity</th>\n",
       "      <th>Cloudiness</th>\n",
       "      <th>Wind Speed</th>\n",
       "      <th>Date</th>\n",
       "    </tr>\n",
       "  </thead>\n",
       "  <tbody>\n",
       "    <tr>\n",
       "      <th>count</th>\n",
       "      <td>547.000000</td>\n",
       "      <td>547.000000</td>\n",
       "      <td>547.000000</td>\n",
       "      <td>547.000000</td>\n",
       "      <td>547.000000</td>\n",
       "      <td>547.000000</td>\n",
       "      <td>5.470000e+02</td>\n",
       "    </tr>\n",
       "    <tr>\n",
       "      <th>mean</th>\n",
       "      <td>20.629360</td>\n",
       "      <td>14.293894</td>\n",
       "      <td>56.067112</td>\n",
       "      <td>72.652651</td>\n",
       "      <td>54.071298</td>\n",
       "      <td>8.104223</td>\n",
       "      <td>1.606239e+09</td>\n",
       "    </tr>\n",
       "    <tr>\n",
       "      <th>std</th>\n",
       "      <td>32.660474</td>\n",
       "      <td>89.970202</td>\n",
       "      <td>26.035448</td>\n",
       "      <td>20.316543</td>\n",
       "      <td>37.821593</td>\n",
       "      <td>5.921329</td>\n",
       "      <td>9.955218e+01</td>\n",
       "    </tr>\n",
       "    <tr>\n",
       "      <th>min</th>\n",
       "      <td>-54.800000</td>\n",
       "      <td>-175.200000</td>\n",
       "      <td>-21.930000</td>\n",
       "      <td>11.000000</td>\n",
       "      <td>0.000000</td>\n",
       "      <td>0.020000</td>\n",
       "      <td>1.606238e+09</td>\n",
       "    </tr>\n",
       "    <tr>\n",
       "      <th>25%</th>\n",
       "      <td>-6.500000</td>\n",
       "      <td>-64.345000</td>\n",
       "      <td>38.065000</td>\n",
       "      <td>62.500000</td>\n",
       "      <td>18.000000</td>\n",
       "      <td>3.390000</td>\n",
       "      <td>1.606239e+09</td>\n",
       "    </tr>\n",
       "    <tr>\n",
       "      <th>50%</th>\n",
       "      <td>27.670000</td>\n",
       "      <td>20.830000</td>\n",
       "      <td>61.750000</td>\n",
       "      <td>78.000000</td>\n",
       "      <td>63.000000</td>\n",
       "      <td>6.930000</td>\n",
       "      <td>1.606239e+09</td>\n",
       "    </tr>\n",
       "    <tr>\n",
       "      <th>75%</th>\n",
       "      <td>46.705000</td>\n",
       "      <td>92.150000</td>\n",
       "      <td>76.640000</td>\n",
       "      <td>88.000000</td>\n",
       "      <td>90.000000</td>\n",
       "      <td>11.075000</td>\n",
       "      <td>1.606239e+09</td>\n",
       "    </tr>\n",
       "    <tr>\n",
       "      <th>max</th>\n",
       "      <td>77.480000</td>\n",
       "      <td>179.320000</td>\n",
       "      <td>107.650000</td>\n",
       "      <td>100.000000</td>\n",
       "      <td>100.000000</td>\n",
       "      <td>40.260000</td>\n",
       "      <td>1.606239e+09</td>\n",
       "    </tr>\n",
       "  </tbody>\n",
       "</table>\n",
       "</div>"
      ],
      "text/plain": [
       "              Lat         Lng    Max Temp    Humidity  Cloudiness  Wind Speed  \\\n",
       "count  547.000000  547.000000  547.000000  547.000000  547.000000  547.000000   \n",
       "mean    20.629360   14.293894   56.067112   72.652651   54.071298    8.104223   \n",
       "std     32.660474   89.970202   26.035448   20.316543   37.821593    5.921329   \n",
       "min    -54.800000 -175.200000  -21.930000   11.000000    0.000000    0.020000   \n",
       "25%     -6.500000  -64.345000   38.065000   62.500000   18.000000    3.390000   \n",
       "50%     27.670000   20.830000   61.750000   78.000000   63.000000    6.930000   \n",
       "75%     46.705000   92.150000   76.640000   88.000000   90.000000   11.075000   \n",
       "max     77.480000  179.320000  107.650000  100.000000  100.000000   40.260000   \n",
       "\n",
       "               Date  \n",
       "count  5.470000e+02  \n",
       "mean   1.606239e+09  \n",
       "std    9.955218e+01  \n",
       "min    1.606238e+09  \n",
       "25%    1.606239e+09  \n",
       "50%    1.606239e+09  \n",
       "75%    1.606239e+09  \n",
       "max    1.606239e+09  "
      ]
     },
     "execution_count": 5,
     "metadata": {},
     "output_type": "execute_result"
    }
   ],
   "source": [
    "# Print out a description of the data frame using .describe()\n",
    "city_df.describe()"
   ]
  },
  {
   "cell_type": "markdown",
   "metadata": {},
   "source": [
    "## Inspect the data and remove the cities where the humidity > 100%.\n",
    "----\n",
    "Skip this step if there are no cities that have humidity > 100%. "
   ]
  },
  {
   "cell_type": "code",
   "execution_count": 6,
   "metadata": {},
   "outputs": [
    {
     "data": {
      "text/html": [
       "<div>\n",
       "<style scoped>\n",
       "    .dataframe tbody tr th:only-of-type {\n",
       "        vertical-align: middle;\n",
       "    }\n",
       "\n",
       "    .dataframe tbody tr th {\n",
       "        vertical-align: top;\n",
       "    }\n",
       "\n",
       "    .dataframe thead th {\n",
       "        text-align: right;\n",
       "    }\n",
       "</style>\n",
       "<table border=\"1\" class=\"dataframe\">\n",
       "  <thead>\n",
       "    <tr style=\"text-align: right;\">\n",
       "      <th></th>\n",
       "      <th>City</th>\n",
       "      <th>Lat</th>\n",
       "      <th>Lng</th>\n",
       "      <th>Max Temp</th>\n",
       "      <th>Humidity</th>\n",
       "      <th>Cloudiness</th>\n",
       "      <th>Wind Speed</th>\n",
       "      <th>Country</th>\n",
       "      <th>Date</th>\n",
       "    </tr>\n",
       "  </thead>\n",
       "  <tbody>\n",
       "    <tr>\n",
       "      <th>0</th>\n",
       "      <td>Kindu</td>\n",
       "      <td>-2.95</td>\n",
       "      <td>25.95</td>\n",
       "      <td>70.50</td>\n",
       "      <td>93</td>\n",
       "      <td>98</td>\n",
       "      <td>1.32</td>\n",
       "      <td>CD</td>\n",
       "      <td>1606238556</td>\n",
       "    </tr>\n",
       "    <tr>\n",
       "      <th>1</th>\n",
       "      <td>Dauphin</td>\n",
       "      <td>51.15</td>\n",
       "      <td>-100.05</td>\n",
       "      <td>26.60</td>\n",
       "      <td>92</td>\n",
       "      <td>90</td>\n",
       "      <td>14.99</td>\n",
       "      <td>CA</td>\n",
       "      <td>1606238557</td>\n",
       "    </tr>\n",
       "    <tr>\n",
       "      <th>2</th>\n",
       "      <td>Saint-Philippe</td>\n",
       "      <td>-21.36</td>\n",
       "      <td>55.77</td>\n",
       "      <td>75.20</td>\n",
       "      <td>78</td>\n",
       "      <td>53</td>\n",
       "      <td>8.99</td>\n",
       "      <td>RE</td>\n",
       "      <td>1606238558</td>\n",
       "    </tr>\n",
       "    <tr>\n",
       "      <th>3</th>\n",
       "      <td>Port Hardy</td>\n",
       "      <td>50.70</td>\n",
       "      <td>-127.42</td>\n",
       "      <td>42.80</td>\n",
       "      <td>100</td>\n",
       "      <td>90</td>\n",
       "      <td>4.70</td>\n",
       "      <td>CA</td>\n",
       "      <td>1606238558</td>\n",
       "    </tr>\n",
       "    <tr>\n",
       "      <th>4</th>\n",
       "      <td>San Quintín</td>\n",
       "      <td>30.48</td>\n",
       "      <td>-115.95</td>\n",
       "      <td>61.52</td>\n",
       "      <td>68</td>\n",
       "      <td>3</td>\n",
       "      <td>3.67</td>\n",
       "      <td>MX</td>\n",
       "      <td>1606238558</td>\n",
       "    </tr>\n",
       "  </tbody>\n",
       "</table>\n",
       "</div>"
      ],
      "text/plain": [
       "             City    Lat     Lng  Max Temp  Humidity  Cloudiness  Wind Speed  \\\n",
       "0           Kindu  -2.95   25.95     70.50        93          98        1.32   \n",
       "1         Dauphin  51.15 -100.05     26.60        92          90       14.99   \n",
       "2  Saint-Philippe -21.36   55.77     75.20        78          53        8.99   \n",
       "3      Port Hardy  50.70 -127.42     42.80       100          90        4.70   \n",
       "4     San Quintín  30.48 -115.95     61.52        68           3        3.67   \n",
       "\n",
       "  Country        Date  \n",
       "0      CD  1606238556  \n",
       "1      CA  1606238557  \n",
       "2      RE  1606238558  \n",
       "3      CA  1606238558  \n",
       "4      MX  1606238558  "
      ]
     },
     "execution_count": 6,
     "metadata": {},
     "output_type": "execute_result"
    }
   ],
   "source": [
    "# Use loc to locate the rows that have humidity less than or equal to 100 and print out\n",
    "city_low_humidity = city_df.loc[city_df[\"Humidity\"] <= 100]\n",
    "city_low_humidity.head()"
   ]
  },
  {
   "cell_type": "code",
   "execution_count": 7,
   "metadata": {},
   "outputs": [
    {
     "data": {
      "text/html": [
       "<div>\n",
       "<style scoped>\n",
       "    .dataframe tbody tr th:only-of-type {\n",
       "        vertical-align: middle;\n",
       "    }\n",
       "\n",
       "    .dataframe tbody tr th {\n",
       "        vertical-align: top;\n",
       "    }\n",
       "\n",
       "    .dataframe thead th {\n",
       "        text-align: right;\n",
       "    }\n",
       "</style>\n",
       "<table border=\"1\" class=\"dataframe\">\n",
       "  <thead>\n",
       "    <tr style=\"text-align: right;\">\n",
       "      <th></th>\n",
       "      <th>City</th>\n",
       "      <th>Lat</th>\n",
       "      <th>Lng</th>\n",
       "      <th>Max Temp</th>\n",
       "      <th>Humidity</th>\n",
       "      <th>Cloudiness</th>\n",
       "      <th>Wind Speed</th>\n",
       "      <th>Country</th>\n",
       "      <th>Date</th>\n",
       "    </tr>\n",
       "  </thead>\n",
       "  <tbody>\n",
       "  </tbody>\n",
       "</table>\n",
       "</div>"
      ],
      "text/plain": [
       "Empty DataFrame\n",
       "Columns: [City, Lat, Lng, Max Temp, Humidity, Cloudiness, Wind Speed, Country, Date]\n",
       "Index: []"
      ]
     },
     "execution_count": 7,
     "metadata": {},
     "output_type": "execute_result"
    }
   ],
   "source": [
    "#  Get the indices of cities that have humidity over 100%.\n",
    "# Use the loc to locate rows that humidity greater than 100\n",
    "city_high_humidity = city_df.loc[city_df[\"Humidity\"] > 100]\n",
    "city_high_humidity\n",
    "\n",
    "# Results show that there are no cities that have humidity greater than 100"
   ]
  },
  {
   "cell_type": "code",
   "execution_count": 8,
   "metadata": {},
   "outputs": [
    {
     "name": "stdout",
     "output_type": "stream",
     "text": [
      "The lower bound for humidity is 24.25 and the upper bound for humidity is 126.25.\n"
     ]
    },
    {
     "data": {
      "text/html": [
       "<div>\n",
       "<style scoped>\n",
       "    .dataframe tbody tr th:only-of-type {\n",
       "        vertical-align: middle;\n",
       "    }\n",
       "\n",
       "    .dataframe tbody tr th {\n",
       "        vertical-align: top;\n",
       "    }\n",
       "\n",
       "    .dataframe thead th {\n",
       "        text-align: right;\n",
       "    }\n",
       "</style>\n",
       "<table border=\"1\" class=\"dataframe\">\n",
       "  <thead>\n",
       "    <tr style=\"text-align: right;\">\n",
       "      <th></th>\n",
       "      <th>City</th>\n",
       "      <th>Lat</th>\n",
       "      <th>Lng</th>\n",
       "      <th>Max Temp</th>\n",
       "      <th>Humidity</th>\n",
       "      <th>Cloudiness</th>\n",
       "      <th>Wind Speed</th>\n",
       "      <th>Country</th>\n",
       "      <th>Date</th>\n",
       "    </tr>\n",
       "  </thead>\n",
       "  <tbody>\n",
       "    <tr>\n",
       "      <th>0</th>\n",
       "      <td>Kindu</td>\n",
       "      <td>-2.95</td>\n",
       "      <td>25.95</td>\n",
       "      <td>70.50</td>\n",
       "      <td>93</td>\n",
       "      <td>98</td>\n",
       "      <td>1.32</td>\n",
       "      <td>CD</td>\n",
       "      <td>1606238556</td>\n",
       "    </tr>\n",
       "    <tr>\n",
       "      <th>1</th>\n",
       "      <td>Dauphin</td>\n",
       "      <td>51.15</td>\n",
       "      <td>-100.05</td>\n",
       "      <td>26.60</td>\n",
       "      <td>92</td>\n",
       "      <td>90</td>\n",
       "      <td>14.99</td>\n",
       "      <td>CA</td>\n",
       "      <td>1606238557</td>\n",
       "    </tr>\n",
       "    <tr>\n",
       "      <th>2</th>\n",
       "      <td>Saint-Philippe</td>\n",
       "      <td>-21.36</td>\n",
       "      <td>55.77</td>\n",
       "      <td>75.20</td>\n",
       "      <td>78</td>\n",
       "      <td>53</td>\n",
       "      <td>8.99</td>\n",
       "      <td>RE</td>\n",
       "      <td>1606238558</td>\n",
       "    </tr>\n",
       "    <tr>\n",
       "      <th>3</th>\n",
       "      <td>Port Hardy</td>\n",
       "      <td>50.70</td>\n",
       "      <td>-127.42</td>\n",
       "      <td>42.80</td>\n",
       "      <td>100</td>\n",
       "      <td>90</td>\n",
       "      <td>4.70</td>\n",
       "      <td>CA</td>\n",
       "      <td>1606238558</td>\n",
       "    </tr>\n",
       "    <tr>\n",
       "      <th>4</th>\n",
       "      <td>San Quintín</td>\n",
       "      <td>30.48</td>\n",
       "      <td>-115.95</td>\n",
       "      <td>61.52</td>\n",
       "      <td>68</td>\n",
       "      <td>3</td>\n",
       "      <td>3.67</td>\n",
       "      <td>MX</td>\n",
       "      <td>1606238558</td>\n",
       "    </tr>\n",
       "  </tbody>\n",
       "</table>\n",
       "</div>"
      ],
      "text/plain": [
       "             City    Lat     Lng  Max Temp  Humidity  Cloudiness  Wind Speed  \\\n",
       "0           Kindu  -2.95   25.95     70.50        93          98        1.32   \n",
       "1         Dauphin  51.15 -100.05     26.60        92          90       14.99   \n",
       "2  Saint-Philippe -21.36   55.77     75.20        78          53        8.99   \n",
       "3      Port Hardy  50.70 -127.42     42.80       100          90        4.70   \n",
       "4     San Quintín  30.48 -115.95     61.52        68           3        3.67   \n",
       "\n",
       "  Country        Date  \n",
       "0      CD  1606238556  \n",
       "1      CA  1606238557  \n",
       "2      RE  1606238558  \n",
       "3      CA  1606238558  \n",
       "4      MX  1606238558  "
      ]
     },
     "execution_count": 8,
     "metadata": {},
     "output_type": "execute_result"
    }
   ],
   "source": [
    "# Make a new DataFrame equal to the city data to drop all humidity outliers by index.\n",
    "# Passing \"inplace=False\" will make a copy of the city_data DataFrame, which we call \"clean_city_data\".\n",
    "# Find the Q1 and Q3 of humidity, then find the upper and lower bounds, then use loc to find all the cities that have humidities between the upper and lower bounds\n",
    "lower_quart = city_df.describe()[\"Humidity\"][4]\n",
    "upper_quart = city_df.describe()[\"Humidity\"][6]\n",
    "iqr = (upper_quart - lower_quart)\n",
    "lower_bound = lower_quart - (1.5 * iqr)\n",
    "upper_bound = upper_quart + (1.5 * iqr)\n",
    "print(f\"The lower bound for humidity is {lower_bound} and the upper bound for humidity is {upper_bound}.\")\n",
    "clean_city_data = city_df.loc[(city_df[\"Humidity\"] > lower_bound) & (city_df[\"Humidity\"] < upper_bound)]\n",
    "clean_city_data.head()"
   ]
  },
  {
   "cell_type": "markdown",
   "metadata": {},
   "source": [
    "## Plotting the Data\n",
    "* Use proper labeling of the plots using plot titles (including date of analysis) and axes labels.\n",
    "* Save the plotted figures as .pngs."
   ]
  },
  {
   "cell_type": "markdown",
   "metadata": {},
   "source": [
    "## Latitude vs. Temperature Plot"
   ]
  },
  {
   "cell_type": "code",
   "execution_count": 9,
   "metadata": {
    "scrolled": true
   },
   "outputs": [
    {
     "data": {
      "image/png": "[encoded data removed]",
      "text/plain": [
       "<Figure size 432x288 with 1 Axes>"
      ]
     },
     "metadata": {
      "needs_background": "light"
     },
     "output_type": "display_data"
    }
   ],
   "source": [
    "# Make a scatter plot showing latitude vs max temp using the clean_city_data\n",
    "# Store the x and y axis as variables from the very beginning\n",
    "# Use proper labels on x and y axis, store the plot as a PNG image\n",
    "x_axis = clean_city_data[\"Lat\"]\n",
    "y_axis = clean_city_data[\"Max Temp\"]\n",
    "plt.scatter(x_axis, y_axis, marker=\".\", color=\"blue\")\n",
    "plt.grid()\n",
    "plt.title(\"City Latitude vs Max Temperature\")\n",
    "plt.xlabel(\"Latitude\")\n",
    "plt.ylabel(\"Max Temperature (F)\")\n",
    "plt.savefig(\"latitude_vs_temperature.png\")\n",
    "plt.show()"
   ]
  },
  {
   "cell_type": "markdown",
   "metadata": {},
   "source": [
    "## Latitude vs. Humidity Plot"
   ]
  },
  {
   "cell_type": "code",
   "execution_count": 10,
   "metadata": {},
   "outputs": [
    {
     "data": {
      "image/png": "[encoded data removed]",
      "text/plain": [
       "<Figure size 432x288 with 1 Axes>"
      ]
     },
     "metadata": {
      "needs_background": "light"
     },
     "output_type": "display_data"
    }
   ],
   "source": [
    "# Make a scatter plot showing latitude vs humidity using the clean_city_data\n",
    "# Store the x and y axis as variables from the very beginning\n",
    "# Use proper labels on x and y axis, store the plot as a PNG image\n",
    "x_axis = clean_city_data[\"Lat\"]\n",
    "y_axis = clean_city_data[\"Humidity\"]\n",
    "plt.scatter(x_axis, y_axis, marker=\"x\", color=\"purple\")\n",
    "plt.grid()\n",
    "plt.title(\"City Latitude vs Humidity\")\n",
    "plt.xlabel(\"Latitude\")\n",
    "plt.ylabel(\"Humidity (%)\")\n",
    "plt.savefig(\"latitude_vs_humidity.png\")\n",
    "plt.show()"
   ]
  },
  {
   "cell_type": "markdown",
   "metadata": {},
   "source": [
    "## Latitude vs. Cloudiness Plot"
   ]
  },
  {
   "cell_type": "code",
   "execution_count": 11,
   "metadata": {},
   "outputs": [
    {
     "data": {
      "image/png": "[encoded data removed]",
      "text/plain": [
       "<Figure size 432x288 with 1 Axes>"
      ]
     },
     "metadata": {
      "needs_background": "light"
     },
     "output_type": "display_data"
    }
   ],
   "source": [
    "# Make a scatter plot showing latitude vs humidity using the clean_city_data\n",
    "# Store the x and y axis as variables from the very beginning\n",
    "# Use proper labels on x and y axis, store the plot as a PNG image\n",
    "x_axis = clean_city_data[\"Lat\"]\n",
    "y_axis = clean_city_data[\"Cloudiness\"]\n",
    "plt.scatter(x_axis, y_axis, marker=\"*\", color=\"green\",)\n",
    "plt.grid()\n",
    "plt.title(\"City Latitude vs Cloudiness\")\n",
    "plt.xlabel(\"Latitude\")\n",
    "plt.ylabel(\"Cloudiness (%)\")\n",
    "plt.savefig(\"latitude_vs_cloudiness.png\")\n",
    "plt.show()"
   ]
  },
  {
   "cell_type": "markdown",
   "metadata": {},
   "source": [
    "## Latitude vs. Wind Speed Plot"
   ]
  },
  {
   "cell_type": "code",
   "execution_count": 12,
   "metadata": {},
   "outputs": [
    {
     "data": {
      "image/png": "[encoded data removed]",
      "text/plain": [
       "<Figure size 432x288 with 1 Axes>"
      ]
     },
     "metadata": {
      "needs_background": "light"
     },
     "output_type": "display_data"
    }
   ],
   "source": [
    "# Make a scatter plot showing latitude vs humidity using the clean_city_data\n",
    "# Store the x and y axis as variables from the very beginning\n",
    "# Use proper labels on x and y axis, store the plot as a PNG image\n",
    "x_axis = clean_city_data[\"Lat\"]\n",
    "y_axis = clean_city_data[\"Wind Speed\"]\n",
    "plt.scatter(x_axis, y_axis, marker=\"o\", color=\"red\",)\n",
    "plt.grid()\n",
    "plt.title(\"City Latitude vs Wind Speed\")\n",
    "plt.xlabel(\"Latitude\")\n",
    "plt.ylabel(\"Wind Speed (mph)\")\n",
    "plt.savefig(\"latitude_vs_wind_speed.png\")\n",
    "plt.show()"
   ]
  },
  {
   "cell_type": "markdown",
   "metadata": {},
   "source": [
    "## Linear Regression"
   ]
  },
  {
   "cell_type": "code",
   "execution_count": 13,
   "metadata": {},
   "outputs": [
    {
     "name": "stdout",
     "output_type": "stream",
     "text": [
      "The correlation coefficient is -0.867 for the northern hemisphere maximum temperatures.\n",
      "The correlation coefficient is 0.6 for the southern hemisphere maximum temperatures.\n",
      "-----------------------\n",
      "The least squares regression line for northern hemisphere cities is given by y = -1.17x +92.88.\n",
      "The least squares regression line for southern hemisphere cities is given by y = 0.57x +85.59.\n"
     ]
    }
   ],
   "source": [
    "# Calculate the linear regression model for the northern hemisphere and southern hemishpere separately\n",
    "# Use the loc on latitude to find the cities that have latitude greater than 0 (north) and less than 0 (south)\n",
    "x_values_north = clean_city_data.loc[clean_city_data[\"Lat\"] > 0][\"Lat\"]\n",
    "y_values_north = clean_city_data.loc[clean_city_data[\"Lat\"] > 0][\"Max Temp\"]\n",
    "x_values_south = clean_city_data.loc[clean_city_data[\"Lat\"] < 0][\"Lat\"]\n",
    "y_values_south = clean_city_data.loc[clean_city_data[\"Lat\"] < 0][\"Max Temp\"]\n",
    "\n",
    "# Perform the linear regression using linregress on the north values and then on the south values\n",
    "(slope_north_temp, int_north_temp, rvalue_north_temp, pvalue_north_temp, stderr_north_temp) = linregress(x_values_north, y_values_north)\n",
    "(slope_south_temp, int_south_temp, rvalue_south_temp, pvalue_south_temp, stderr_south_temp) = linregress(x_values_south, y_values_south)\n",
    "\n",
    "# Print out a statement for the correlation coefficient\n",
    "print(f\"The correlation coefficient is {round(rvalue_north_temp,3)} for the northern hemisphere maximum temperatures.\")\n",
    "print(f\"The correlation coefficient is {round(rvalue_south_temp,3)} for the southern hemisphere maximum temperatures.\")\n",
    "print(\"-----------------------\")\n",
    "\n",
    "# Print out the two equations for the linear model\n",
    "regress_values_north = x_values_north * slope_north_temp + int_north_temp\n",
    "line_eq_north = \"y = \" + str(round(slope_north_temp,2)) + \"x +\" + str(round(int_north_temp,2))\n",
    "print(f\"The least squares regression line for northern hemisphere cities is given by {line_eq_north}.\")\n",
    "regress_values_south = x_values_south * slope_south_temp + int_south_temp\n",
    "line_eq_south = \"y = \" + str(round(slope_south_temp,2)) + \"x +\" + str(round(int_south_temp,2))\n",
    "print(f\"The least squares regression line for southern hemisphere cities is given by {line_eq_south}.\")"
   ]
  },
  {
   "cell_type": "markdown",
   "metadata": {},
   "source": [
    "####  Northern Hemisphere - Max Temp vs. Latitude Linear Regression"
   ]
  },
  {
   "cell_type": "code",
   "execution_count": 14,
   "metadata": {},
   "outputs": [
    {
     "name": "stdout",
     "output_type": "stream",
     "text": [
      "The r-value is: -0.8670179685242707\n"
     ]
    },
    {
     "data": {
      "image/png": "[encoded data removed]",
      "text/plain": [
       "<Figure size 432x288 with 1 Axes>"
      ]
     },
     "metadata": {
      "needs_background": "light"
     },
     "output_type": "display_data"
    }
   ],
   "source": [
    "# Create scatter plot for the northern hemisphere cities measuring the latitude vs max temperature\n",
    "# Include the line of best fit on the plot as well\n",
    "print(f\"The r-value is: {rvalue_north_temp}\")\n",
    "plt.scatter(x_values_north, y_values_north, marker=\"o\", color=\"red\")\n",
    "plt.xlabel(\"Latitude\")\n",
    "plt.ylabel(\"Max Temperature (F)\")\n",
    "plt.plot(x_values_north, regress_values_north, \"b-\")\n",
    "plt.annotate(line_eq_north,(5,0),fontsize=15,color=\"blue\")\n",
    "plt.savefig(\"northern_latitude_vs_temperature.png\")\n",
    "plt.show()"
   ]
  },
  {
   "cell_type": "markdown",
   "metadata": {},
   "source": [
    "####  Southern Hemisphere - Max Temp vs. Latitude Linear Regression"
   ]
  },
  {
   "cell_type": "code",
   "execution_count": 15,
   "metadata": {},
   "outputs": [
    {
     "name": "stdout",
     "output_type": "stream",
     "text": [
      "The r-value is: 0.6000943598684204\n"
     ]
    },
    {
     "data": {
      "image/png": "[encoded data removed]",
      "text/plain": [
       "<Figure size 432x288 with 1 Axes>"
      ]
     },
     "metadata": {
      "needs_background": "light"
     },
     "output_type": "display_data"
    }
   ],
   "source": [
    "# Create scatter plot for the southern hemisphere cities measuring the latitude vs max temperature\n",
    "# Include the line of best fit on the plot as well\n",
    "print(f\"The r-value is: {rvalue_south_temp}\")\n",
    "plt.scatter(x_values_south, y_values_south, marker=\"o\", color=\"blue\")\n",
    "plt.xlabel(\"Latitude\")\n",
    "plt.ylabel(\"Max Temperature (F)\")\n",
    "plt.plot(x_values_south, regress_values_south, \"r-\")\n",
    "plt.annotate(line_eq_south,(-55,90),fontsize=15,color=\"red\")\n",
    "plt.savefig(\"southern_latitude_vs_temperature.png\")\n",
    "plt.show()"
   ]
  },
  {
   "cell_type": "markdown",
   "metadata": {},
   "source": [
    "####  Northern Hemisphere - Humidity (%) vs. Latitude Linear Regression"
   ]
  },
  {
   "cell_type": "code",
   "execution_count": 16,
   "metadata": {},
   "outputs": [
    {
     "name": "stdout",
     "output_type": "stream",
     "text": [
      "The r-value is: 0.3776980109998795\n"
     ]
    },
    {
     "data": {
      "image/png": "[encoded data removed]",
      "text/plain": [
       "<Figure size 432x288 with 1 Axes>"
      ]
     },
     "metadata": {
      "needs_background": "light"
     },
     "output_type": "display_data"
    }
   ],
   "source": [
    "# Calculate the linear regression model for humidity in northern hemisphere\n",
    "x_values = clean_city_data.loc[clean_city_data[\"Lat\"] > 0][\"Lat\"]\n",
    "y_values = clean_city_data.loc[clean_city_data[\"Lat\"] > 0][\"Humidity\"]\n",
    "\n",
    "# Perform the linear regression using linregress\n",
    "(slope, intercept, rvalue, pvalue, stderr) = linregress(x_values, y_values)\n",
    "\n",
    "# Create the equation for the linear model\n",
    "regress_values = x_values * slope + intercept\n",
    "line_eq = \"y = \" + str(round(slope,2)) + \"x +\" + str(round(intercept,2))\n",
    "\n",
    "# Print the r-value\n",
    "print(f\"The r-value is: {rvalue}\")\n",
    "\n",
    "# Create the scatter plot with titles and linear equation on plot\n",
    "plt.scatter(x_values, y_values, marker=\"o\", color=\"red\")\n",
    "plt.xlabel(\"Latitude\")\n",
    "plt.ylabel(\"Humidity (%)\")\n",
    "plt.plot(x_values, regress_values, \"b-\")\n",
    "plt.annotate(line_eq, (45,30), fontsize=15, color=\"blue\")\n",
    "plt.savefig(\"northern_latitude_vs_humidity.png\")\n",
    "plt.show()"
   ]
  },
  {
   "cell_type": "markdown",
   "metadata": {},
   "source": [
    "####  Southern Hemisphere - Humidity (%) vs. Latitude Linear Regression"
   ]
  },
  {
   "cell_type": "code",
   "execution_count": 17,
   "metadata": {},
   "outputs": [
    {
     "name": "stdout",
     "output_type": "stream",
     "text": [
      "The r-value is: 0.06699737969864335\n"
     ]
    },
    {
     "data": {
      "image/png": "[encoded data removed]",
      "text/plain": [
       "<Figure size 432x288 with 1 Axes>"
      ]
     },
     "metadata": {
      "needs_background": "light"
     },
     "output_type": "display_data"
    }
   ],
   "source": [
    "# Calculate the linear regression model for humidity in southern hemisphere\n",
    "x_values = clean_city_data.loc[clean_city_data[\"Lat\"] < 0][\"Lat\"]\n",
    "y_values = clean_city_data.loc[clean_city_data[\"Lat\"] < 0][\"Humidity\"]\n",
    "\n",
    "# Perform the linear regression using linregress\n",
    "(slope, intercept, rvalue, pvalue, stderr) = linregress(x_values, y_values)\n",
    "\n",
    "# Create the equation for the linear model\n",
    "regress_values = x_values * slope + intercept\n",
    "line_eq = \"y = \" + str(round(slope,2)) + \"x +\" + str(round(intercept,2))\n",
    "\n",
    "# Print the r-value\n",
    "print(f\"The r-value is: {rvalue}\")\n",
    "\n",
    "# Create the scatter plot with titles and linear equation on plot\n",
    "plt.scatter(x_values, y_values, marker=\"o\", color=\"blue\")\n",
    "plt.xlabel(\"Latitude\")\n",
    "plt.ylabel(\"Humidity (%)\")\n",
    "plt.plot(x_values, regress_values, \"r-\")\n",
    "plt.annotate(line_eq, (-55,35), fontsize=15, color=\"red\")\n",
    "plt.savefig(\"southern_latitude_vs_humidity.png\")\n",
    "plt.show()"
   ]
  },
  {
   "cell_type": "markdown",
   "metadata": {},
   "source": [
    "####  Northern Hemisphere - Cloudiness (%) vs. Latitude Linear Regression"
   ]
  },
  {
   "cell_type": "code",
   "execution_count": 18,
   "metadata": {},
   "outputs": [
    {
     "name": "stdout",
     "output_type": "stream",
     "text": [
      "The r-value is: 0.30416569668403504\n"
     ]
    },
    {
     "data": {
      "image/png": "[encoded data removed]",
      "text/plain": [
       "<Figure size 432x288 with 1 Axes>"
      ]
     },
     "metadata": {
      "needs_background": "light"
     },
     "output_type": "display_data"
    }
   ],
   "source": [
    "# Calculate the linear regression model for cloudiness in northern hemisphere\n",
    "x_values = clean_city_data.loc[clean_city_data[\"Lat\"] > 0][\"Lat\"]\n",
    "y_values = clean_city_data.loc[clean_city_data[\"Lat\"] > 0][\"Cloudiness\"]\n",
    "\n",
    "# Perform the linear regression using linregress\n",
    "(slope, intercept, rvalue, pvalue, stderr) = linregress(x_values, y_values)\n",
    "\n",
    "# Create the equation for the linear model\n",
    "regress_values = x_values * slope + intercept\n",
    "line_eq = \"y = \" + str(round(slope,2)) + \"x +\" + str(round(intercept,2))\n",
    "\n",
    "# Print the r-value\n",
    "print(f\"The r-value is: {rvalue}\")\n",
    "\n",
    "# Create the scatter plot with titles and linear equation on plot\n",
    "plt.scatter(x_values, y_values, marker=\"o\", color=\"red\")\n",
    "plt.xlabel(\"Latitude\")\n",
    "plt.ylabel(\"Cloudiness (%)\")\n",
    "plt.plot(x_values, regress_values, \"b-\")\n",
    "plt.annotate(line_eq, (45,25), fontsize=15, color=\"blue\")\n",
    "plt.savefig(\"northern_latitude_vs_cloudiness.png\")\n",
    "plt.show()"
   ]
  },
  {
   "cell_type": "markdown",
   "metadata": {},
   "source": [
    "####  Southern Hemisphere - Cloudiness (%) vs. Latitude Linear Regression"
   ]
  },
  {
   "cell_type": "code",
   "execution_count": 19,
   "metadata": {},
   "outputs": [
    {
     "name": "stdout",
     "output_type": "stream",
     "text": [
      "The r-value is: 0.28098950220149804\n"
     ]
    },
    {
     "data": {
      "image/png": "[encoded data removed]",
      "text/plain": [
       "<Figure size 432x288 with 1 Axes>"
      ]
     },
     "metadata": {
      "needs_background": "light"
     },
     "output_type": "display_data"
    }
   ],
   "source": [
    "# Calculate the linear regression model for cloudiness in southern hemisphere\n",
    "x_values = clean_city_data.loc[clean_city_data[\"Lat\"] < 0][\"Lat\"]\n",
    "y_values = clean_city_data.loc[clean_city_data[\"Lat\"] < 0][\"Cloudiness\"]\n",
    "\n",
    "# Perform the linear regression using linregress\n",
    "(slope, intercept, rvalue, pvalue, stderr) = linregress(x_values, y_values)\n",
    "\n",
    "# Create the equation for the linear model\n",
    "regress_values = x_values * slope + intercept\n",
    "line_eq = \"y = \" + str(round(slope,2)) + \"x +\" + str(round(intercept,2))\n",
    "\n",
    "# Print the r-value\n",
    "print(f\"The r-value is: {rvalue}\")\n",
    "\n",
    "# Create the scatter plot with titles and linear equation on plot\n",
    "plt.scatter(x_values, y_values, marker=\"o\", color=\"blue\")\n",
    "plt.xlabel(\"Latitude\")\n",
    "plt.ylabel(\"Cloudiness (%)\")\n",
    "plt.plot(x_values, regress_values, \"r-\")\n",
    "plt.annotate(line_eq, (-55,50), fontsize=15, color=\"red\")\n",
    "plt.savefig(\"southern_latitude_vs_cloudiness.png\")\n",
    "plt.show()"
   ]
  },
  {
   "cell_type": "markdown",
   "metadata": {},
   "source": [
    "####  Northern Hemisphere - Wind Speed (mph) vs. Latitude Linear Regression"
   ]
  },
  {
   "cell_type": "code",
   "execution_count": 20,
   "metadata": {},
   "outputs": [
    {
     "name": "stdout",
     "output_type": "stream",
     "text": [
      "The r-value is: 0.11979479182002993\n"
     ]
    },
    {
     "data": {
      "image/png": "[encoded data removed]",
      "text/plain": [
       "<Figure size 432x288 with 1 Axes>"
      ]
     },
     "metadata": {
      "needs_background": "light"
     },
     "output_type": "display_data"
    }
   ],
   "source": [
    "# Calculate the linear regression model for wind speed in northern hemisphere\n",
    "x_values = clean_city_data.loc[clean_city_data[\"Lat\"] > 0][\"Lat\"]\n",
    "y_values = clean_city_data.loc[clean_city_data[\"Lat\"] > 0][\"Wind Speed\"]\n",
    "\n",
    "# Perform the linear regression using linregress\n",
    "(slope, intercept, rvalue, pvalue, stderr) = linregress(x_values, y_values)\n",
    "\n",
    "# Create the equation for the linear model\n",
    "regress_values = x_values * slope + intercept\n",
    "line_eq = \"y = \" + str(round(slope,2)) + \"x +\" + str(round(intercept,2))\n",
    "\n",
    "# Print the r-value\n",
    "print(f\"The r-value is: {rvalue}\")\n",
    "\n",
    "# Create the scatter plot with titles and linear equation on plot\n",
    "plt.scatter(x_values, y_values, marker=\"o\", color=\"red\")\n",
    "plt.xlabel(\"Latitude\")\n",
    "plt.ylabel(\"Wind Speed (mph)\")\n",
    "plt.plot(x_values, regress_values, \"b-\")\n",
    "plt.annotate(line_eq, (0,22), fontsize=15, color=\"blue\")\n",
    "plt.savefig(\"northern_latitude_vs_wind_speed.png\")\n",
    "plt.show()"
   ]
  },
  {
   "cell_type": "markdown",
   "metadata": {},
   "source": [
    "####  Southern Hemisphere - Wind Speed (mph) vs. Latitude Linear Regression"
   ]
  },
  {
   "cell_type": "code",
   "execution_count": 21,
   "metadata": {},
   "outputs": [
    {
     "name": "stdout",
     "output_type": "stream",
     "text": [
      "The r-value is: -0.18987076767531352\n"
     ]
    },
    {
     "data": {
      "image/png": "[encoded data removed]",
      "text/plain": [
       "<Figure size 432x288 with 1 Axes>"
      ]
     },
     "metadata": {
      "needs_background": "light"
     },
     "output_type": "display_data"
    }
   ],
   "source": [
    "# Calculate the linear regression model for wind speed in southern hemisphere\n",
    "x_values = clean_city_data.loc[clean_city_data[\"Lat\"] < 0][\"Lat\"]\n",
    "y_values = clean_city_data.loc[clean_city_data[\"Lat\"] < 0][\"Wind Speed\"]\n",
    "\n",
    "# Perform the linear regression using linregress\n",
    "(slope, intercept, rvalue, pvalue, stderr) = linregress(x_values, y_values)\n",
    "\n",
    "# Create the equation for the linear model\n",
    "regress_values = x_values * slope + intercept\n",
    "line_eq = \"y = \" + str(round(slope,2)) + \"x +\" + str(round(intercept,2))\n",
    "\n",
    "# Print the r-value\n",
    "print(f\"The r-value is: {rvalue}\")\n",
    "\n",
    "# Create the scatter plot with titles and linear equation on plot\n",
    "plt.scatter(x_values, y_values, marker=\"o\", color=\"blue\")\n",
    "plt.xlabel(\"Latitude\")\n",
    "plt.ylabel(\"Wind Speed (mph)\")\n",
    "plt.plot(x_values, regress_values, \"r-\")\n",
    "plt.annotate(line_eq, (-55,13), fontsize=15, color=\"red\")\n",
    "plt.savefig(\"southern_latitude_vs_wind_speed.png\")\n",
    "plt.show()"
   ]
  },
  {
   "cell_type": "code",
   "execution_count": null,
   "metadata": {},
   "outputs": [],
   "source": []
  }
 ],
 "metadata": {
  "anaconda-cloud": {},
  "kernel_info": {
   "name": "python3"
  },
  "kernelspec": {
   "display_name": "Python 3",
   "language": "python",
   "name": "python3"
  },
  "language_info": {
   "codemirror_mode": {
    "name": "ipython",
    "version": 3
   },
   "file_extension": ".py",
   "mimetype": "text/x-python",
   "name": "python",
   "nbconvert_exporter": "python",
   "pygments_lexer": "ipython3",
   "version": "3.8.5"
  },
  "latex_envs": {
   "LaTeX_envs_menu_present": true,
   "autoclose": false,
   "autocomplete": true,
   "bibliofile": "biblio.bib",
   "cite_by": "apalike",
   "current_citInitial": 1,
   "eqLabelWithNumbers": true,
   "eqNumInitial": 1,
   "hotkeys": {
    "equation": "Ctrl-E",
    "itemize": "Ctrl-I"
   },
   "labels_anchors": false,
   "latex_user_defs": false,
   "report_style_numbering": false,
   "user_envs_cfg": false
  },
  "nteract": {
   "version": "0.12.3"
  }
 },
 "nbformat": 4,
 "nbformat_minor": 2
}
