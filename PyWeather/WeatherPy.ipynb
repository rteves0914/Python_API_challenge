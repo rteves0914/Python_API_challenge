{
 "cells": [
  {
   "cell_type": "markdown",
   "metadata": {},
   "source": [
    "# WeatherPy\n",
    "----\n",
    "\n",
    "#### Note\n",
    "* Instructions have been included for each segment. You do not have to follow them exactly, but they are included to help you think through the steps."
   ]
  },
  {
   "cell_type": "code",
   "execution_count": 1,
   "metadata": {
    "scrolled": true
   },
   "outputs": [],
   "source": [
    "# Dependencies and Setup\n",
    "import matplotlib.pyplot as plt\n",
    "import pandas as pd\n",
    "import numpy as np\n",
    "import requests\n",
    "import time\n",
    "from scipy.stats import linregress\n",
    "\n",
    "# Import API key\n",
    "from api_keys import api_weather\n",
    "\n",
    "# Incorporated citipy to determine city based on latitude and longitude\n",
    "from citipy import citipy\n",
    "\n",
    "# Output File (CSV)\n",
    "output_data_file = \"output_data/cities.csv\"\n",
    "\n",
    "# Range of latitudes and longitudes\n",
    "lat_range = (-90, 90)\n",
    "lng_range = (-180, 180)"
   ]
  },
  {
   "cell_type": "markdown",
   "metadata": {},
   "source": [
    "## Generate Cities List"
   ]
  },
  {
   "cell_type": "code",
   "execution_count": 2,
   "metadata": {},
   "outputs": [
    {
     "data": {
      "text/plain": [
       "588"
      ]
     },
     "execution_count": 2,
     "metadata": {},
     "output_type": "execute_result"
    }
   ],
   "source": [
    "# List for holding lat_lngs and cities\n",
    "lat_lngs = []\n",
    "cities = []\n",
    "\n",
    "# Create a set of random lat and lng combinations\n",
    "lats = np.random.uniform(lat_range[0], lat_range[1], size=1500)\n",
    "lngs = np.random.uniform(lng_range[0], lng_range[1], size=1500)\n",
    "lat_lngs = zip(lats, lngs)\n",
    "\n",
    "# Identify nearest city for each lat, lng combination\n",
    "for lat_lng in lat_lngs:\n",
    "    city = citipy.nearest_city(lat_lng[0], lat_lng[1]).city_name\n",
    "    \n",
    "    # If the city is unique, then add it to a our cities list\n",
    "    if city not in cities:\n",
    "        cities.append(city)\n",
    "\n",
    "# Print the city count to confirm sufficient count\n",
    "len(cities)"
   ]
  },
  {
   "cell_type": "markdown",
   "metadata": {},
   "source": [
    "### Perform API Calls\n",
    "* Perform a weather check on each city using a series of successive API calls.\n",
    "* Include a print log of each city as it'sbeing processed (with the city number and city name).\n"
   ]
  },
  {
   "cell_type": "code",
   "execution_count": 3,
   "metadata": {
    "scrolled": true
   },
   "outputs": [
    {
     "name": "stdout",
     "output_type": "stream",
     "text": [
      "Beginning data retrieval\n",
      "--------------------------------\n",
      "Processing Record 0| albany\n",
      "Processing Record 1| rikitea\n",
      "Processing Record 2| narrabri\n",
      "City not found....Skipping\n",
      "Processing Record 4| victoria\n",
      "Processing Record 5| ribeira grande\n",
      "Processing Record 6| rorvik\n",
      "City not found....Skipping\n",
      "Processing Record 8| vaini\n",
      "Processing Record 9| tuktoyaktuk\n",
      "Processing Record 10| san patricio\n",
      "Processing Record 11| ushuaia\n",
      "Processing Record 12| kaitangata\n",
      "Processing Record 13| motygino\n",
      "Processing Record 14| high level\n",
      "Processing Record 15| bredasdorp\n",
      "Processing Record 16| puerto ayora\n",
      "Processing Record 17| walvis bay\n",
      "Processing Record 18| okha\n",
      "Processing Record 19| carnarvon\n",
      "Processing Record 20| clyde river\n",
      "Processing Record 21| ilulissat\n",
      "Processing Record 22| manggar\n",
      "Processing Record 23| mar del plata\n",
      "Processing Record 24| khatanga\n",
      "Processing Record 25| chaman\n",
      "City not found....Skipping\n",
      "Processing Record 27| gornopravdinsk\n",
      "Processing Record 28| camopi\n",
      "Processing Record 29| punta arenas\n",
      "Processing Record 30| busselton\n",
      "Processing Record 31| yelatma\n",
      "City not found....Skipping\n",
      "Processing Record 33| moranbah\n",
      "Processing Record 34| lac du bonnet\n",
      "Processing Record 35| katsuura\n",
      "Processing Record 36| sibolga\n",
      "City not found....Skipping\n",
      "Processing Record 38| saint-pierre\n",
      "City not found....Skipping\n",
      "City not found....Skipping\n",
      "Processing Record 41| avarua\n",
      "Processing Record 42| kruisfontein\n",
      "Processing Record 43| carutapera\n",
      "Processing Record 44| iqaluit\n",
      "Processing Record 45| alekseyevsk\n",
      "Processing Record 46| krasnovishersk\n",
      "Processing Record 47| san quintin\n",
      "Processing Record 48| ushtobe\n",
      "Processing Record 49| port blair\n",
      "Processing Record 50| hermanus\n",
      "Processing Record 51| castro\n",
      "Processing Record 52| yellowknife\n",
      "Processing Record 53| izberbash\n",
      "Processing Record 54| bethel\n",
      "Processing Record 55| tabou\n",
      "Processing Record 56| teya\n",
      "Processing Record 57| tugolesskiy bor\n",
      "Processing Record 58| batagay-alyta\n",
      "Processing Record 59| los llanos de aridane\n",
      "Processing Record 60| nikolskoye\n",
      "Processing Record 61| aswan\n",
      "Processing Record 62| eureka\n",
      "Processing Record 63| murray bridge\n",
      "Processing Record 64| butaritari\n",
      "Processing Record 65| richards bay\n",
      "Processing Record 66| port elizabeth\n",
      "Processing Record 67| margate\n",
      "Processing Record 68| faanui\n",
      "Processing Record 69| provideniya\n",
      "Processing Record 70| oranjemund\n",
      "Processing Record 71| lagoa\n",
      "Processing Record 72| namibe\n",
      "Processing Record 73| cullman\n",
      "City not found....Skipping\n",
      "Processing Record 75| flinders\n",
      "Processing Record 76| tasiilaq\n",
      "Processing Record 77| hithadhoo\n",
      "Processing Record 78| ponta do sol\n",
      "Processing Record 79| bluff\n",
      "Processing Record 80| evensk\n",
      "Processing Record 81| wewak\n",
      "Processing Record 82| lorengau\n",
      "Processing Record 83| ko samui\n",
      "Processing Record 84| kolomna\n",
      "Processing Record 85| mount isa\n",
      "Processing Record 86| east london\n",
      "City not found....Skipping\n",
      "Processing Record 88| mataura\n",
      "Processing Record 89| taoudenni\n",
      "Processing Record 90| cape town\n",
      "Processing Record 91| nome\n",
      "Processing Record 92| pevek\n",
      "Processing Record 93| houston\n",
      "Processing Record 94| port alfred\n",
      "Processing Record 95| cherskiy\n",
      "Processing Record 96| pavlodar\n",
      "Processing Record 97| tanout\n",
      "Processing Record 98| road town\n",
      "Processing Record 99| new norfolk\n",
      "Processing Record 100| victor harbor\n",
      "Processing Record 101| naze\n",
      "Processing Record 102| bengkulu\n",
      "Processing Record 103| portland\n",
      "Processing Record 104| hobart\n",
      "Processing Record 105| torbay\n",
      "Processing Record 106| sitka\n",
      "Processing Record 107| mingaora\n",
      "Processing Record 108| whitecourt\n",
      "Processing Record 109| yongan\n",
      "Processing Record 110| saskylakh\n",
      "Processing Record 111| korocha\n",
      "Processing Record 112| jaen\n",
      "Processing Record 113| sokoni\n",
      "Processing Record 114| klaksvik\n",
      "Processing Record 115| klyuchi\n",
      "Processing Record 116| chuy\n",
      "Processing Record 117| tankhoy\n",
      "Processing Record 118| la ronge\n",
      "Processing Record 119| dikson\n",
      "Processing Record 120| chokurdakh\n",
      "Processing Record 121| laguna\n",
      "Processing Record 122| sao joao da barra\n",
      "Processing Record 123| jamestown\n",
      "Processing Record 124| akhmeta\n",
      "City not found....Skipping\n",
      "City not found....Skipping\n",
      "Processing Record 127| tiksi\n",
      "Processing Record 128| cabo san lucas\n",
      "Processing Record 129| dekar\n",
      "Processing Record 130| ulaangom\n",
      "Processing Record 131| denpasar\n",
      "Processing Record 132| lompoc\n",
      "Processing Record 133| otradnoye\n",
      "Processing Record 134| kieta\n",
      "Processing Record 135| gorontalo\n",
      "Processing Record 136| hilo\n",
      "City not found....Skipping\n",
      "Processing Record 138| norman wells\n",
      "Processing Record 139| ygatimi\n",
      "Processing Record 140| xining\n",
      "Processing Record 141| xichang\n",
      "Processing Record 142| new richmond\n",
      "City not found....Skipping\n",
      "Processing Record 144| georgetown\n",
      "Processing Record 145| raichur\n",
      "Processing Record 146| barrow\n",
      "Processing Record 147| urusha\n",
      "Processing Record 148| ambositra\n",
      "Processing Record 149| tupik\n",
      "Processing Record 150| leningradskiy\n",
      "City not found....Skipping\n",
      "City not found....Skipping\n",
      "Processing Record 153| yelizovo\n",
      "Processing Record 154| amuntai\n",
      "Processing Record 155| touros\n",
      "Processing Record 156| cidreira\n",
      "Processing Record 157| husavik\n",
      "Processing Record 158| westport\n",
      "Processing Record 159| geraldton\n",
      "Processing Record 160| neiafu\n",
      "Processing Record 161| ormara\n",
      "Processing Record 162| korla\n",
      "Processing Record 163| hongjiang\n",
      "Processing Record 164| mazamet\n",
      "Processing Record 165| benguela\n",
      "Processing Record 166| glazov\n",
      "Processing Record 167| atuona\n",
      "Processing Record 168| mahebourg\n",
      "Processing Record 169| arraial do cabo\n",
      "Processing Record 170| ambon\n",
      "Processing Record 171| alice springs\n",
      "Processing Record 172| coihaique\n",
      "Processing Record 173| saint-augustin\n",
      "Processing Record 174| grand gaube\n",
      "Processing Record 175| oban\n",
      "Processing Record 176| umtata\n",
      "City not found....Skipping\n",
      "City not found....Skipping\n",
      "Processing Record 179| saint-philippe\n",
      "Processing Record 180| jiwani\n",
      "Processing Record 181| kalabo\n",
      "Processing Record 182| hambantota\n",
      "Processing Record 183| mocuba\n",
      "City not found....Skipping\n",
      "Processing Record 185| coronado\n",
      "Processing Record 186| saldanha\n",
      "Processing Record 187| batemans bay\n",
      "Processing Record 188| marsh harbour\n",
      "Processing Record 189| lokosovo\n",
      "Processing Record 190| belaya gora\n",
      "Processing Record 191| saravan\n",
      "Processing Record 192| hanmer springs\n",
      "Processing Record 193| olafsvik\n",
      "Processing Record 194| karaton\n",
      "Processing Record 195| kandi\n",
      "Processing Record 196| pangoa\n",
      "Processing Record 197| yima\n",
      "Processing Record 198| buluang\n",
      "Processing Record 199| san juan\n",
      "Processing Record 200| guerrero negro\n",
      "Processing Record 201| upernavik\n",
      "Processing Record 202| platanos\n",
      "Processing Record 203| longyearbyen\n",
      "Processing Record 204| avera\n",
      "Processing Record 205| te anau\n",
      "Processing Record 206| pulandian\n",
      "Processing Record 207| adrar\n",
      "Processing Record 208| yafran\n",
      "Processing Record 209| ancud\n",
      "Processing Record 210| yar-sale\n",
      "Processing Record 211| botshabelo\n",
      "Processing Record 212| nandu\n",
      "Processing Record 213| port hardy\n",
      "Processing Record 214| talavera de la reina\n",
      "Processing Record 215| novoilinsk\n",
      "Processing Record 216| komsomolskiy\n",
      "Processing Record 217| northam\n",
      "Processing Record 218| honningsvag\n",
      "City not found....Skipping\n",
      "Processing Record 220| inirida\n",
      "Processing Record 221| wanaka\n",
      "City not found....Skipping\n",
      "Processing Record 223| gold coast\n",
      "Processing Record 224| lebu\n",
      "Processing Record 225| rognan\n",
      "Processing Record 226| narsaq\n",
      "Processing Record 227| bambous virieux\n",
      "Processing Record 228| fortuna\n",
      "Processing Record 229| srednekolymsk\n",
      "Processing Record 230| sabya\n",
      "Processing Record 231| bayangol\n",
      "Processing Record 232| beira\n",
      "Processing Record 233| esperance\n",
      "Processing Record 234| sao filipe\n",
      "City not found....Skipping\n",
      "Processing Record 236| grindavik\n",
      "Processing Record 237| port hedland\n",
      "Processing Record 238| coquimbo\n",
      "Processing Record 239| morondava\n",
      "Processing Record 240| kapaa\n",
      "Processing Record 241| caravelas\n",
      "Processing Record 242| kodiak\n",
      "Processing Record 243| chisindia\n",
      "Processing Record 244| malbug\n",
      "Processing Record 245| macia\n",
      "Processing Record 246| changli\n",
      "Processing Record 247| gangapur\n",
      "Processing Record 248| dingle\n",
      "Processing Record 249| tranas\n",
      "Processing Record 250| tadine\n",
      "Processing Record 251| faya\n",
      "Processing Record 252| kahului\n",
      "Processing Record 253| hamilton\n",
      "Processing Record 254| vestmanna\n",
      "Processing Record 255| bathsheba\n",
      "Processing Record 256| bowen\n",
      "Processing Record 257| toamasina\n",
      "Processing Record 258| santa\n"
     ]
    },
    {
     "name": "stdout",
     "output_type": "stream",
     "text": [
      "City not found....Skipping\n",
      "Processing Record 260| makaryev\n",
      "Processing Record 261| ahipara\n",
      "Processing Record 262| kavieng\n",
      "Processing Record 263| delcevo\n",
      "Processing Record 264| saint george\n",
      "Processing Record 265| kurush\n",
      "Processing Record 266| namatanai\n",
      "Processing Record 267| mumford\n",
      "Processing Record 268| henties bay\n",
      "Processing Record 269| yumen\n",
      "Processing Record 270| arcata\n",
      "Processing Record 271| canberra\n",
      "City not found....Skipping\n",
      "Processing Record 273| beringovskiy\n",
      "Processing Record 274| deputatskiy\n",
      "Processing Record 275| lishu\n",
      "Processing Record 276| askarovo\n",
      "Processing Record 277| san fernando\n",
      "Processing Record 278| tauranga\n",
      "Processing Record 279| yarada\n",
      "Processing Record 280| lata\n",
      "Processing Record 281| nouadhibou\n",
      "Processing Record 282| kurilsk\n",
      "City not found....Skipping\n",
      "Processing Record 284| tuatapere\n",
      "Processing Record 285| hasaki\n",
      "Processing Record 286| sioux lookout\n",
      "City not found....Skipping\n",
      "Processing Record 288| patnos\n",
      "Processing Record 289| vendome\n",
      "Processing Record 290| bodh gaya\n",
      "City not found....Skipping\n",
      "City not found....Skipping\n",
      "Processing Record 293| kupang\n",
      "Processing Record 294| vardo\n",
      "Processing Record 295| progreso\n",
      "Processing Record 296| krasnyy chikoy\n",
      "Processing Record 297| lake charles\n",
      "Processing Record 298| marabba\n",
      "Processing Record 299| krasnogorsk\n",
      "Processing Record 300| novyy oskol\n",
      "Processing Record 301| bloomington\n",
      "Processing Record 302| kikwit\n",
      "Processing Record 303| kosh-agach\n",
      "Processing Record 304| muzhi\n",
      "Processing Record 305| noumea\n",
      "Processing Record 306| anloga\n",
      "Processing Record 307| korem\n",
      "City not found....Skipping\n",
      "Processing Record 309| lhokseumawe\n",
      "Processing Record 310| verkhoturye\n",
      "Processing Record 311| brazzaville\n",
      "Processing Record 312| praia da vitoria\n",
      "Processing Record 313| opuwo\n",
      "Processing Record 314| mindyak\n",
      "Processing Record 315| bintulu\n",
      "Processing Record 316| liverpool\n",
      "Processing Record 317| berlevag\n",
      "Processing Record 318| palauig\n",
      "Processing Record 319| shizunai\n",
      "Processing Record 320| jaciara\n",
      "Processing Record 321| ust-tsilma\n",
      "Processing Record 322| severo-yeniseyskiy\n",
      "Processing Record 323| porto novo\n",
      "Processing Record 324| betioky\n",
      "Processing Record 325| isla mujeres\n",
      "Processing Record 326| mandalgovi\n",
      "Processing Record 327| santa rosalia\n",
      "Processing Record 328| saraland\n",
      "Processing Record 329| naryan-mar\n",
      "Processing Record 330| sarkand\n",
      "City not found....Skipping\n",
      "Processing Record 332| brigantine\n",
      "Processing Record 333| baykit\n",
      "Processing Record 334| orangeburg\n",
      "Processing Record 335| thompson\n",
      "Processing Record 336| wajir\n",
      "Processing Record 337| calama\n",
      "Processing Record 338| cururupu\n",
      "Processing Record 339| lavrentiya\n",
      "Processing Record 340| gualdo tadino\n",
      "Processing Record 341| paita\n",
      "Processing Record 342| puerto escondido\n",
      "Processing Record 343| dera ghazi khan\n",
      "Processing Record 344| lastoursville\n",
      "Processing Record 345| penzance\n",
      "City not found....Skipping\n",
      "Processing Record 347| kachug\n",
      "Processing Record 348| alofi\n",
      "Processing Record 349| luderitz\n",
      "Processing Record 350| emerald\n",
      "Processing Record 351| kaniama\n",
      "Processing Record 352| talnakh\n",
      "Processing Record 353| seymchan\n",
      "Processing Record 354| iquitos\n",
      "Processing Record 355| saint-francois\n",
      "Processing Record 356| qaanaaq\n",
      "Processing Record 357| natal\n",
      "Processing Record 358| tres arroyos\n",
      "Processing Record 359| hualmay\n",
      "Processing Record 360| vila franca do campo\n",
      "Processing Record 361| aklavik\n",
      "Processing Record 362| santa lucia\n",
      "Processing Record 363| rieti\n",
      "Processing Record 364| superior\n",
      "Processing Record 365| luz\n",
      "Processing Record 366| lisakovsk\n",
      "Processing Record 367| arlit\n",
      "City not found....Skipping\n",
      "City not found....Skipping\n",
      "Processing Record 370| shingu\n",
      "Processing Record 371| dubovka\n",
      "Processing Record 372| saldus\n",
      "Processing Record 373| vila\n",
      "Processing Record 374| mount gambier\n",
      "Processing Record 375| labuhan\n",
      "Processing Record 376| kudahuvadhoo\n",
      "Processing Record 377| melfi\n",
      "City not found....Skipping\n",
      "Processing Record 379| arman\n",
      "Processing Record 380| general roca\n",
      "Processing Record 381| urucara\n",
      "Processing Record 382| waipawa\n",
      "Processing Record 383| cockburn town\n",
      "Processing Record 384| praia\n",
      "City not found....Skipping\n",
      "Processing Record 386| sterling\n",
      "Processing Record 387| rudnogorsk\n",
      "Processing Record 388| college\n",
      "Processing Record 389| zhezkazgan\n",
      "Processing Record 390| shelburne\n",
      "Processing Record 391| san vicente\n",
      "Processing Record 392| new waterford\n",
      "Processing Record 393| bagli\n",
      "City not found....Skipping\n",
      "Processing Record 395| riacho de santana\n",
      "Processing Record 396| semey\n",
      "Processing Record 397| svetlyy\n",
      "Processing Record 398| yuci\n",
      "Processing Record 399| gimli\n",
      "Processing Record 400| rocha\n",
      "Processing Record 401| bonthe\n",
      "Processing Record 402| necochea\n",
      "City not found....Skipping\n",
      "Processing Record 404| codrington\n",
      "Processing Record 405| freeport\n",
      "Processing Record 406| inhambane\n",
      "Processing Record 407| ixtapa\n",
      "Processing Record 408| quatre cocos\n",
      "Processing Record 409| sines\n",
      "Processing Record 410| carupano\n",
      "Processing Record 411| ilinskiy\n",
      "Processing Record 412| kichera\n",
      "Processing Record 413| soller\n",
      "Processing Record 414| biak\n",
      "Processing Record 415| canto do buriti\n",
      "Processing Record 416| pacific grove\n",
      "Processing Record 417| santa isabel do rio negro\n",
      "Processing Record 418| pyapon\n",
      "Processing Record 419| padang\n",
      "Processing Record 420| boyuibe\n",
      "Processing Record 421| lamar\n",
      "Processing Record 422| mangan\n",
      "Processing Record 423| suntar\n",
      "Processing Record 424| isangel\n",
      "Processing Record 425| copiapo\n",
      "Processing Record 426| rio grande\n",
      "Processing Record 427| bagacay\n",
      "Processing Record 428| obigarm\n",
      "Processing Record 429| port lincoln\n",
      "Processing Record 430| vila velha\n",
      "Processing Record 431| le port\n",
      "Processing Record 432| huarmey\n",
      "Processing Record 433| terrace bay\n",
      "Processing Record 434| contepec\n",
      "Processing Record 435| chapais\n",
      "Processing Record 436| vitim\n",
      "Processing Record 437| denizli\n",
      "Processing Record 438| barcelona\n",
      "Processing Record 439| nanortalik\n",
      "Processing Record 440| rudnaya pristan\n",
      "Processing Record 441| kirakira\n",
      "Processing Record 442| jumla\n",
      "Processing Record 443| barcelos\n",
      "Processing Record 444| tenenkou\n",
      "Processing Record 445| tucurui\n",
      "Processing Record 446| micheweni\n",
      "Processing Record 447| hami\n",
      "Processing Record 448| boyabat\n",
      "Processing Record 449| jalu\n",
      "Processing Record 450| la rioja\n",
      "Processing Record 451| sakakah\n",
      "Processing Record 452| prince rupert\n",
      "Processing Record 453| betare oya\n",
      "Processing Record 454| bada\n",
      "Processing Record 455| mitchell\n",
      "Processing Record 456| nola\n",
      "Processing Record 457| severo-kurilsk\n",
      "Processing Record 458| zemio\n",
      "Processing Record 459| praya\n",
      "Processing Record 460| pisco\n",
      "Processing Record 461| carauari\n",
      "Processing Record 462| malumfashi\n",
      "Processing Record 463| hofn\n",
      "Processing Record 464| sept-iles\n",
      "City not found....Skipping\n",
      "Processing Record 466| finnsnes\n",
      "Processing Record 467| ruza\n",
      "Processing Record 468| katete\n",
      "Processing Record 469| port hawkesbury\n",
      "Processing Record 470| mehamn\n",
      "City not found....Skipping\n",
      "Processing Record 472| rafai\n",
      "Processing Record 473| gannan\n",
      "Processing Record 474| kavaratti\n",
      "Processing Record 475| mahibadhoo\n",
      "Processing Record 476| honiara\n",
      "Processing Record 477| sola\n",
      "Processing Record 478| bella vista\n",
      "Processing Record 479| gamba\n",
      "Processing Record 480| nalut\n",
      "Processing Record 481| minot\n",
      "Processing Record 482| kamaishi\n",
      "Processing Record 483| salalah\n",
      "Processing Record 484| bridlington\n",
      "Processing Record 485| byron bay\n",
      "Processing Record 486| kitimat\n",
      "Processing Record 487| kiunga\n",
      "Processing Record 488| souillac\n",
      "Processing Record 489| sri aman\n",
      "Processing Record 490| bairiki\n",
      "City not found....Skipping\n",
      "Processing Record 492| la palma\n",
      "Processing Record 493| ketchikan\n",
      "Processing Record 494| innisfail\n",
      "Processing Record 495| knysna\n",
      "Processing Record 496| san-pedro\n",
      "Processing Record 497| naron\n",
      "Processing Record 498| butembo\n",
      "Processing Record 499| lakes entrance\n",
      "Processing Record 500| melbu\n",
      "Processing Record 501| zhigansk\n",
      "Processing Record 502| muri\n",
      "Processing Record 503| mahuva\n",
      "Processing Record 504| ballina\n",
      "Processing Record 505| maracai\n",
      "Processing Record 506| half moon bay\n",
      "Processing Record 507| uenohara\n",
      "Processing Record 508| ascension\n",
      "Processing Record 509| udachnyy\n",
      "Processing Record 510| tazovskiy\n",
      "Processing Record 511| vila do maio\n",
      "Processing Record 512| bilibino\n",
      "Processing Record 513| puerto del rosario\n",
      "Processing Record 514| port macquarie\n",
      "Processing Record 515| tahta\n"
     ]
    },
    {
     "name": "stdout",
     "output_type": "stream",
     "text": [
      "City not found....Skipping\n",
      "Processing Record 517| townsville\n",
      "Processing Record 518| grootfontein\n",
      "Processing Record 519| nizwa\n",
      "Processing Record 520| kodinsk\n",
      "Processing Record 521| goderich\n",
      "Processing Record 522| rabaul\n",
      "Processing Record 523| monostorpalyi\n",
      "Processing Record 524| marzuq\n",
      "Processing Record 525| volovo\n",
      "Processing Record 526| champerico\n",
      "Processing Record 527| dubbo\n",
      "Processing Record 528| sambava\n",
      "Processing Record 529| marsa matruh\n",
      "Processing Record 530| nakhon phanom\n",
      "Processing Record 531| muros\n",
      "Processing Record 532| airai\n",
      "Processing Record 533| abu zabad\n",
      "Processing Record 534| tekeli\n",
      "Processing Record 535| dudinka\n",
      "Processing Record 536| tezu\n",
      "Processing Record 537| camacha\n",
      "City not found....Skipping\n",
      "Processing Record 539| qingdao\n",
      "Processing Record 540| mendi\n",
      "Processing Record 541| altay\n",
      "Processing Record 542| aberdeen\n",
      "Processing Record 543| paamiut\n",
      "Processing Record 544| alba\n",
      "Processing Record 545| dunedin\n",
      "Processing Record 546| ponca city\n",
      "Processing Record 547| sayhat\n",
      "Processing Record 548| havelock\n",
      "Processing Record 549| vostok\n",
      "Processing Record 550| neufchateau\n",
      "Processing Record 551| lithakia\n",
      "Processing Record 552| zeya\n",
      "Processing Record 553| constantine\n",
      "Processing Record 554| varzea da palma\n",
      "Processing Record 555| sinnamary\n",
      "Processing Record 556| esso\n",
      "Processing Record 557| lima\n",
      "Processing Record 558| orahovac\n",
      "Processing Record 559| williams lake\n",
      "Processing Record 560| olinda\n",
      "Processing Record 561| saint anthony\n",
      "Processing Record 562| marienburg\n",
      "Processing Record 563| sawtell\n",
      "Processing Record 564| uvinza\n",
      "City not found....Skipping\n",
      "City not found....Skipping\n",
      "Processing Record 567| piacabucu\n",
      "Processing Record 568| viedma\n",
      "Processing Record 569| havoysund\n",
      "Processing Record 570| khrystynivka\n",
      "Processing Record 571| najran\n",
      "Processing Record 572| trelleborg\n",
      "Processing Record 573| el tigre\n",
      "Processing Record 574| ivybridge\n",
      "Processing Record 575| lososina\n",
      "City not found....Skipping\n",
      "Processing Record 577| zyryanka\n",
      "Processing Record 578| darovskoy\n",
      "Processing Record 579| goba\n",
      "Processing Record 580| edd\n",
      "Processing Record 581| katangli\n",
      "Processing Record 582| deming\n",
      "Processing Record 583| bilma\n",
      "Processing Record 584| batavia\n",
      "Processing Record 585| ndjole\n",
      "Processing Record 586| anavra\n",
      "Processing Record 587| taksimo\n",
      "--------------------------------\n",
      "Data retrieval complete\n",
      "--------------------------------\n"
     ]
    }
   ],
   "source": [
    "# Create a for loop to run through each city in the cities list, creata a list to hold info for data frame\n",
    "city_name = []\n",
    "latitude = []\n",
    "longitude = []\n",
    "max_temp = []\n",
    "humidity = []\n",
    "cloudiness = []\n",
    "wind_speed = []\n",
    "country = []\n",
    "date = []\n",
    "print(f\"Beginning data retrieval\")\n",
    "print(f\"--------------------------------\")\n",
    "for i,city in enumerate(cities):\n",
    "\n",
    "# Create the URL for the corresponding city\n",
    "    url = f\"https://api.openweathermap.org/data/2.5/weather?q={city}&appid={api_weather}&units=imperial\"\n",
    "    \n",
    "# Perform the \"requests.get().json()\"\n",
    "    response = requests.get(url).json()\n",
    "    if \"main\" not in response:\n",
    "        print(f\"City not found....Skipping\")\n",
    "        continue\n",
    "\n",
    "# Get the info for the data frame (store into lists using .append)\n",
    "    city_name.append(response[\"name\"])\n",
    "    latitude.append(response[\"coord\"][\"lat\"])\n",
    "    longitude.append(response[\"coord\"][\"lon\"])\n",
    "    max_temp.append(response[\"main\"][\"temp_max\"])\n",
    "    humidity.append(response[\"main\"][\"humidity\"])\n",
    "    cloudiness.append(response[\"clouds\"][\"all\"])\n",
    "    wind_speed.append(response[\"wind\"][\"speed\"])\n",
    "    country.append(response[\"sys\"][\"country\"])\n",
    "    date.append(response[\"dt\"])\n",
    "\n",
    "# Print out the correct string \"Processing Record #| city_name\"\n",
    "    print(f'Processing Record {i}| {city}')\n",
    "print(f\"--------------------------------\")\n",
    "print(f\"Data retrieval complete\")\n",
    "print(f\"--------------------------------\")"
   ]
  },
  {
   "cell_type": "markdown",
   "metadata": {},
   "source": [
    "### Convert Raw Data to DataFrame\n",
    "* Export the city data into a .csv.\n",
    "* Display the DataFrame"
   ]
  },
  {
   "cell_type": "code",
   "execution_count": 4,
   "metadata": {},
   "outputs": [],
   "source": [
    "city_info = {\"City\":city_name,\n",
    "             \"Lat\":latitude,\n",
    "             \"Lng\":longitude,\n",
    "             \"Max Temp\":max_temp,\n",
    "             \"Humidity\":humidity,\n",
    "             \"Cloudiness\":cloudiness,\n",
    "             \"Wind Speed\":wind_speed,\n",
    "             \"Country\":country,\n",
    "             \"Date\":date\n",
    "             }\n",
    "city_df = pd.DataFrame(city_info)\n",
    "city_df.head()\n",
    "\n",
    "# Save the data fram in a .csv file\n",
    "city_df.to_csv('city_df.csv', index = False, header=True)"
   ]
  },
  {
   "cell_type": "code",
   "execution_count": 5,
   "metadata": {},
   "outputs": [
    {
     "data": {
      "text/html": [
       "<div>\n",
       "<style scoped>\n",
       "    .dataframe tbody tr th:only-of-type {\n",
       "        vertical-align: middle;\n",
       "    }\n",
       "\n",
       "    .dataframe tbody tr th {\n",
       "        vertical-align: top;\n",
       "    }\n",
       "\n",
       "    .dataframe thead th {\n",
       "        text-align: right;\n",
       "    }\n",
       "</style>\n",
       "<table border=\"1\" class=\"dataframe\">\n",
       "  <thead>\n",
       "    <tr style=\"text-align: right;\">\n",
       "      <th></th>\n",
       "      <th>Lat</th>\n",
       "      <th>Lng</th>\n",
       "      <th>Max Temp</th>\n",
       "      <th>Humidity</th>\n",
       "      <th>Cloudiness</th>\n",
       "      <th>Wind Speed</th>\n",
       "      <th>Date</th>\n",
       "    </tr>\n",
       "  </thead>\n",
       "  <tbody>\n",
       "    <tr>\n",
       "      <th>count</th>\n",
       "      <td>544.000000</td>\n",
       "      <td>544.000000</td>\n",
       "      <td>544.000000</td>\n",
       "      <td>544.000000</td>\n",
       "      <td>544.000000</td>\n",
       "      <td>544.000000</td>\n",
       "      <td>5.440000e+02</td>\n",
       "    </tr>\n",
       "    <tr>\n",
       "      <th>mean</th>\n",
       "      <td>21.002592</td>\n",
       "      <td>25.232298</td>\n",
       "      <td>54.651912</td>\n",
       "      <td>75.694853</td>\n",
       "      <td>50.501838</td>\n",
       "      <td>7.263437</td>\n",
       "      <td>1.605234e+09</td>\n",
       "    </tr>\n",
       "    <tr>\n",
       "      <th>std</th>\n",
       "      <td>34.058318</td>\n",
       "      <td>89.607561</td>\n",
       "      <td>24.341659</td>\n",
       "      <td>18.500577</td>\n",
       "      <td>40.561574</td>\n",
       "      <td>5.379877</td>\n",
       "      <td>1.248093e+02</td>\n",
       "    </tr>\n",
       "    <tr>\n",
       "      <th>min</th>\n",
       "      <td>-54.800000</td>\n",
       "      <td>-175.200000</td>\n",
       "      <td>-17.930000</td>\n",
       "      <td>8.000000</td>\n",
       "      <td>0.000000</td>\n",
       "      <td>0.360000</td>\n",
       "      <td>1.605233e+09</td>\n",
       "    </tr>\n",
       "    <tr>\n",
       "      <th>25%</th>\n",
       "      <td>-7.052500</td>\n",
       "      <td>-51.350000</td>\n",
       "      <td>39.082500</td>\n",
       "      <td>66.000000</td>\n",
       "      <td>1.000000</td>\n",
       "      <td>3.360000</td>\n",
       "      <td>1.605234e+09</td>\n",
       "    </tr>\n",
       "    <tr>\n",
       "      <th>50%</th>\n",
       "      <td>28.195000</td>\n",
       "      <td>26.800000</td>\n",
       "      <td>60.800000</td>\n",
       "      <td>80.000000</td>\n",
       "      <td>53.000000</td>\n",
       "      <td>6.005000</td>\n",
       "      <td>1.605234e+09</td>\n",
       "    </tr>\n",
       "    <tr>\n",
       "      <th>75%</th>\n",
       "      <td>50.212500</td>\n",
       "      <td>103.917500</td>\n",
       "      <td>73.990000</td>\n",
       "      <td>90.000000</td>\n",
       "      <td>90.000000</td>\n",
       "      <td>9.680000</td>\n",
       "      <td>1.605234e+09</td>\n",
       "    </tr>\n",
       "    <tr>\n",
       "      <th>max</th>\n",
       "      <td>78.220000</td>\n",
       "      <td>179.320000</td>\n",
       "      <td>102.200000</td>\n",
       "      <td>100.000000</td>\n",
       "      <td>100.000000</td>\n",
       "      <td>35.570000</td>\n",
       "      <td>1.605234e+09</td>\n",
       "    </tr>\n",
       "  </tbody>\n",
       "</table>\n",
       "</div>"
      ],
      "text/plain": [
       "              Lat         Lng    Max Temp    Humidity  Cloudiness  Wind Speed  \\\n",
       "count  544.000000  544.000000  544.000000  544.000000  544.000000  544.000000   \n",
       "mean    21.002592   25.232298   54.651912   75.694853   50.501838    7.263437   \n",
       "std     34.058318   89.607561   24.341659   18.500577   40.561574    5.379877   \n",
       "min    -54.800000 -175.200000  -17.930000    8.000000    0.000000    0.360000   \n",
       "25%     -7.052500  -51.350000   39.082500   66.000000    1.000000    3.360000   \n",
       "50%     28.195000   26.800000   60.800000   80.000000   53.000000    6.005000   \n",
       "75%     50.212500  103.917500   73.990000   90.000000   90.000000    9.680000   \n",
       "max     78.220000  179.320000  102.200000  100.000000  100.000000   35.570000   \n",
       "\n",
       "               Date  \n",
       "count  5.440000e+02  \n",
       "mean   1.605234e+09  \n",
       "std    1.248093e+02  \n",
       "min    1.605233e+09  \n",
       "25%    1.605234e+09  \n",
       "50%    1.605234e+09  \n",
       "75%    1.605234e+09  \n",
       "max    1.605234e+09  "
      ]
     },
     "execution_count": 5,
     "metadata": {},
     "output_type": "execute_result"
    }
   ],
   "source": [
    "# Print out a description of the data frame using .describe()\n",
    "city_df.describe()"
   ]
  },
  {
   "cell_type": "markdown",
   "metadata": {},
   "source": [
    "## Inspect the data and remove the cities where the humidity > 100%.\n",
    "----\n",
    "Skip this step if there are no cities that have humidity > 100%. "
   ]
  },
  {
   "cell_type": "code",
   "execution_count": 6,
   "metadata": {},
   "outputs": [
    {
     "data": {
      "text/html": [
       "<div>\n",
       "<style scoped>\n",
       "    .dataframe tbody tr th:only-of-type {\n",
       "        vertical-align: middle;\n",
       "    }\n",
       "\n",
       "    .dataframe tbody tr th {\n",
       "        vertical-align: top;\n",
       "    }\n",
       "\n",
       "    .dataframe thead th {\n",
       "        text-align: right;\n",
       "    }\n",
       "</style>\n",
       "<table border=\"1\" class=\"dataframe\">\n",
       "  <thead>\n",
       "    <tr style=\"text-align: right;\">\n",
       "      <th></th>\n",
       "      <th>City</th>\n",
       "      <th>Lat</th>\n",
       "      <th>Lng</th>\n",
       "      <th>Max Temp</th>\n",
       "      <th>Humidity</th>\n",
       "      <th>Cloudiness</th>\n",
       "      <th>Wind Speed</th>\n",
       "      <th>Country</th>\n",
       "      <th>Date</th>\n",
       "    </tr>\n",
       "  </thead>\n",
       "  <tbody>\n",
       "    <tr>\n",
       "      <th>0</th>\n",
       "      <td>Albany</td>\n",
       "      <td>42.60</td>\n",
       "      <td>-73.97</td>\n",
       "      <td>42.01</td>\n",
       "      <td>70</td>\n",
       "      <td>100</td>\n",
       "      <td>3.80</td>\n",
       "      <td>US</td>\n",
       "      <td>1605233885</td>\n",
       "    </tr>\n",
       "    <tr>\n",
       "      <th>1</th>\n",
       "      <td>Rikitea</td>\n",
       "      <td>-23.12</td>\n",
       "      <td>-134.97</td>\n",
       "      <td>74.66</td>\n",
       "      <td>74</td>\n",
       "      <td>73</td>\n",
       "      <td>15.41</td>\n",
       "      <td>PF</td>\n",
       "      <td>1605233915</td>\n",
       "    </tr>\n",
       "    <tr>\n",
       "      <th>2</th>\n",
       "      <td>Narrabri</td>\n",
       "      <td>-30.32</td>\n",
       "      <td>149.78</td>\n",
       "      <td>82.40</td>\n",
       "      <td>37</td>\n",
       "      <td>0</td>\n",
       "      <td>26.40</td>\n",
       "      <td>AU</td>\n",
       "      <td>1605234094</td>\n",
       "    </tr>\n",
       "    <tr>\n",
       "      <th>3</th>\n",
       "      <td>Hong Kong</td>\n",
       "      <td>22.29</td>\n",
       "      <td>114.16</td>\n",
       "      <td>75.99</td>\n",
       "      <td>38</td>\n",
       "      <td>0</td>\n",
       "      <td>11.41</td>\n",
       "      <td>HK</td>\n",
       "      <td>1605233843</td>\n",
       "    </tr>\n",
       "    <tr>\n",
       "      <th>4</th>\n",
       "      <td>Ribeira Grande</td>\n",
       "      <td>38.52</td>\n",
       "      <td>-28.70</td>\n",
       "      <td>63.34</td>\n",
       "      <td>81</td>\n",
       "      <td>3</td>\n",
       "      <td>3.18</td>\n",
       "      <td>PT</td>\n",
       "      <td>1605234096</td>\n",
       "    </tr>\n",
       "  </tbody>\n",
       "</table>\n",
       "</div>"
      ],
      "text/plain": [
       "             City    Lat     Lng  Max Temp  Humidity  Cloudiness  Wind Speed  \\\n",
       "0          Albany  42.60  -73.97     42.01        70         100        3.80   \n",
       "1         Rikitea -23.12 -134.97     74.66        74          73       15.41   \n",
       "2        Narrabri -30.32  149.78     82.40        37           0       26.40   \n",
       "3       Hong Kong  22.29  114.16     75.99        38           0       11.41   \n",
       "4  Ribeira Grande  38.52  -28.70     63.34        81           3        3.18   \n",
       "\n",
       "  Country        Date  \n",
       "0      US  1605233885  \n",
       "1      PF  1605233915  \n",
       "2      AU  1605234094  \n",
       "3      HK  1605233843  \n",
       "4      PT  1605234096  "
      ]
     },
     "execution_count": 6,
     "metadata": {},
     "output_type": "execute_result"
    }
   ],
   "source": [
    "# Use loc to locate the rows that have humidity less than or equal to 100 and print out\n",
    "city_low_humidity = city_df.loc[city_df[\"Humidity\"] <= 100]\n",
    "city_low_humidity.head()"
   ]
  },
  {
   "cell_type": "code",
   "execution_count": 7,
   "metadata": {},
   "outputs": [
    {
     "data": {
      "text/html": [
       "<div>\n",
       "<style scoped>\n",
       "    .dataframe tbody tr th:only-of-type {\n",
       "        vertical-align: middle;\n",
       "    }\n",
       "\n",
       "    .dataframe tbody tr th {\n",
       "        vertical-align: top;\n",
       "    }\n",
       "\n",
       "    .dataframe thead th {\n",
       "        text-align: right;\n",
       "    }\n",
       "</style>\n",
       "<table border=\"1\" class=\"dataframe\">\n",
       "  <thead>\n",
       "    <tr style=\"text-align: right;\">\n",
       "      <th></th>\n",
       "      <th>City</th>\n",
       "      <th>Lat</th>\n",
       "      <th>Lng</th>\n",
       "      <th>Max Temp</th>\n",
       "      <th>Humidity</th>\n",
       "      <th>Cloudiness</th>\n",
       "      <th>Wind Speed</th>\n",
       "      <th>Country</th>\n",
       "      <th>Date</th>\n",
       "    </tr>\n",
       "  </thead>\n",
       "  <tbody>\n",
       "  </tbody>\n",
       "</table>\n",
       "</div>"
      ],
      "text/plain": [
       "Empty DataFrame\n",
       "Columns: [City, Lat, Lng, Max Temp, Humidity, Cloudiness, Wind Speed, Country, Date]\n",
       "Index: []"
      ]
     },
     "execution_count": 7,
     "metadata": {},
     "output_type": "execute_result"
    }
   ],
   "source": [
    "#  Get the indices of cities that have humidity over 100%.\n",
    "# Use the loc to locate rows that humidity greater than 100\n",
    "city_high_humidity = city_df.loc[city_df[\"Humidity\"] > 100]\n",
    "city_high_humidity\n",
    "\n",
    "# Results show that there are no cities that have humidity greater than 100"
   ]
  },
  {
   "cell_type": "code",
   "execution_count": 8,
   "metadata": {},
   "outputs": [
    {
     "name": "stdout",
     "output_type": "stream",
     "text": [
      "The lower bound for humidity is 30.0 and the upper bound for humidity is 126.0.\n"
     ]
    },
    {
     "data": {
      "text/html": [
       "<div>\n",
       "<style scoped>\n",
       "    .dataframe tbody tr th:only-of-type {\n",
       "        vertical-align: middle;\n",
       "    }\n",
       "\n",
       "    .dataframe tbody tr th {\n",
       "        vertical-align: top;\n",
       "    }\n",
       "\n",
       "    .dataframe thead th {\n",
       "        text-align: right;\n",
       "    }\n",
       "</style>\n",
       "<table border=\"1\" class=\"dataframe\">\n",
       "  <thead>\n",
       "    <tr style=\"text-align: right;\">\n",
       "      <th></th>\n",
       "      <th>City</th>\n",
       "      <th>Lat</th>\n",
       "      <th>Lng</th>\n",
       "      <th>Max Temp</th>\n",
       "      <th>Humidity</th>\n",
       "      <th>Cloudiness</th>\n",
       "      <th>Wind Speed</th>\n",
       "      <th>Country</th>\n",
       "      <th>Date</th>\n",
       "    </tr>\n",
       "  </thead>\n",
       "  <tbody>\n",
       "    <tr>\n",
       "      <th>0</th>\n",
       "      <td>Albany</td>\n",
       "      <td>42.60</td>\n",
       "      <td>-73.97</td>\n",
       "      <td>42.01</td>\n",
       "      <td>70</td>\n",
       "      <td>100</td>\n",
       "      <td>3.80</td>\n",
       "      <td>US</td>\n",
       "      <td>1605233885</td>\n",
       "    </tr>\n",
       "    <tr>\n",
       "      <th>1</th>\n",
       "      <td>Rikitea</td>\n",
       "      <td>-23.12</td>\n",
       "      <td>-134.97</td>\n",
       "      <td>74.66</td>\n",
       "      <td>74</td>\n",
       "      <td>73</td>\n",
       "      <td>15.41</td>\n",
       "      <td>PF</td>\n",
       "      <td>1605233915</td>\n",
       "    </tr>\n",
       "    <tr>\n",
       "      <th>2</th>\n",
       "      <td>Narrabri</td>\n",
       "      <td>-30.32</td>\n",
       "      <td>149.78</td>\n",
       "      <td>82.40</td>\n",
       "      <td>37</td>\n",
       "      <td>0</td>\n",
       "      <td>26.40</td>\n",
       "      <td>AU</td>\n",
       "      <td>1605234094</td>\n",
       "    </tr>\n",
       "    <tr>\n",
       "      <th>3</th>\n",
       "      <td>Hong Kong</td>\n",
       "      <td>22.29</td>\n",
       "      <td>114.16</td>\n",
       "      <td>75.99</td>\n",
       "      <td>38</td>\n",
       "      <td>0</td>\n",
       "      <td>11.41</td>\n",
       "      <td>HK</td>\n",
       "      <td>1605233843</td>\n",
       "    </tr>\n",
       "    <tr>\n",
       "      <th>4</th>\n",
       "      <td>Ribeira Grande</td>\n",
       "      <td>38.52</td>\n",
       "      <td>-28.70</td>\n",
       "      <td>63.34</td>\n",
       "      <td>81</td>\n",
       "      <td>3</td>\n",
       "      <td>3.18</td>\n",
       "      <td>PT</td>\n",
       "      <td>1605234096</td>\n",
       "    </tr>\n",
       "  </tbody>\n",
       "</table>\n",
       "</div>"
      ],
      "text/plain": [
       "             City    Lat     Lng  Max Temp  Humidity  Cloudiness  Wind Speed  \\\n",
       "0          Albany  42.60  -73.97     42.01        70         100        3.80   \n",
       "1         Rikitea -23.12 -134.97     74.66        74          73       15.41   \n",
       "2        Narrabri -30.32  149.78     82.40        37           0       26.40   \n",
       "3       Hong Kong  22.29  114.16     75.99        38           0       11.41   \n",
       "4  Ribeira Grande  38.52  -28.70     63.34        81           3        3.18   \n",
       "\n",
       "  Country        Date  \n",
       "0      US  1605233885  \n",
       "1      PF  1605233915  \n",
       "2      AU  1605234094  \n",
       "3      HK  1605233843  \n",
       "4      PT  1605234096  "
      ]
     },
     "execution_count": 8,
     "metadata": {},
     "output_type": "execute_result"
    }
   ],
   "source": [
    "# Make a new DataFrame equal to the city data to drop all humidity outliers by index.\n",
    "# Passing \"inplace=False\" will make a copy of the city_data DataFrame, which we call \"clean_city_data\".\n",
    "# Find the Q1 and Q3 of humidity, then find the upper and lower bounds, then use loc to find all the cities that have humidities between the upper and lower bounds\n",
    "lower_quart = city_df.describe()[\"Humidity\"][4]\n",
    "upper_quart = city_df.describe()[\"Humidity\"][6]\n",
    "iqr = (upper_quart - lower_quart)\n",
    "lower_bound = lower_quart - (1.5 * iqr)\n",
    "upper_bound = upper_quart + (1.5 * iqr)\n",
    "print(f\"The lower bound for humidity is {lower_bound} and the upper bound for humidity is {upper_bound}.\")\n",
    "clean_city_data = city_df.loc[(city_df[\"Humidity\"] > lower_bound) & (city_df[\"Humidity\"] < upper_bound)]\n",
    "clean_city_data.head()"
   ]
  },
  {
   "cell_type": "markdown",
   "metadata": {},
   "source": [
    "## Plotting the Data\n",
    "* Use proper labeling of the plots using plot titles (including date of analysis) and axes labels.\n",
    "* Save the plotted figures as .pngs."
   ]
  },
  {
   "cell_type": "markdown",
   "metadata": {},
   "source": [
    "## Latitude vs. Temperature Plot"
   ]
  },
  {
   "cell_type": "code",
   "execution_count": 9,
   "metadata": {
    "scrolled": true
   },
   "outputs": [
    {
     "data": {
      "image/png": "[encoded data removed]",
      "text/plain": [
       "<Figure size 432x288 with 1 Axes>"
      ]
     },
     "metadata": {
      "needs_background": "light"
     },
     "output_type": "display_data"
    },
    {
     "data": {
      "text/plain": [
       "<Figure size 432x288 with 0 Axes>"
      ]
     },
     "metadata": {},
     "output_type": "display_data"
    }
   ],
   "source": [
    "# Make a scatter plot showing latitude vs max temp using the clean_city_data\n",
    "# Store the x and y axis as variables from the very beginning\n",
    "# Use proper labels on x and y axis, store the plot as a PNG image\n",
    "x_axis = clean_city_data[\"Lat\"]\n",
    "y_axis = clean_city_data[\"Max Temp\"]\n",
    "plt.scatter(x_axis, y_axis, marker=\".\", color=\"blue\")\n",
    "plt.grid()\n",
    "plt.title(\"City Latitude vs Max Temperature\")\n",
    "plt.xlabel(\"Latitude\")\n",
    "plt.ylabel(\"Max Temperature (F)\")\n",
    "plt.show()\n",
    "plt.savefig(\"latitude_vs_temperature.png\")"
   ]
  },
  {
   "cell_type": "markdown",
   "metadata": {},
   "source": [
    "## Latitude vs. Humidity Plot"
   ]
  },
  {
   "cell_type": "code",
   "execution_count": 10,
   "metadata": {},
   "outputs": [
    {
     "data": {
      "image/png": "[encoded data removed]",
      "text/plain": [
       "<Figure size 432x288 with 1 Axes>"
      ]
     },
     "metadata": {
      "needs_background": "light"
     },
     "output_type": "display_data"
    },
    {
     "data": {
      "text/plain": [
       "<Figure size 432x288 with 0 Axes>"
      ]
     },
     "metadata": {},
     "output_type": "display_data"
    }
   ],
   "source": [
    "# Make a scatter plot showing latitude vs humidity using the clean_city_data\n",
    "# Store the x and y axis as variables from the very beginning\n",
    "# Use proper labels on x and y axis, store the plot as a PNG image\n",
    "x_axis = clean_city_data[\"Lat\"]\n",
    "y_axis = clean_city_data[\"Humidity\"]\n",
    "plt.scatter(x_axis, y_axis, marker=\"x\", color=\"purple\")\n",
    "plt.grid()\n",
    "plt.title(\"City Latitude vs Humidity\")\n",
    "plt.xlabel(\"Latitude\")\n",
    "plt.ylabel(\"Humidity (%)\")\n",
    "plt.show()\n",
    "plt.savefig(\"latitude_vs_humidity.png\")"
   ]
  },
  {
   "cell_type": "markdown",
   "metadata": {},
   "source": [
    "## Latitude vs. Cloudiness Plot"
   ]
  },
  {
   "cell_type": "code",
   "execution_count": 11,
   "metadata": {},
   "outputs": [
    {
     "data": {
      "image/png": "[encoded data removed]",
      "text/plain": [
       "<Figure size 432x288 with 1 Axes>"
      ]
     },
     "metadata": {
      "needs_background": "light"
     },
     "output_type": "display_data"
    },
    {
     "data": {
      "text/plain": [
       "<Figure size 432x288 with 0 Axes>"
      ]
     },
     "metadata": {},
     "output_type": "display_data"
    }
   ],
   "source": [
    "# Make a scatter plot showing latitude vs humidity using the clean_city_data\n",
    "# Store the x and y axis as variables from the very beginning\n",
    "# Use proper labels on x and y axis, store the plot as a PNG image\n",
    "x_axis = clean_city_data[\"Lat\"]\n",
    "y_axis = clean_city_data[\"Cloudiness\"]\n",
    "plt.scatter(x_axis, y_axis, marker=\"*\", color=\"green\",)\n",
    "plt.grid()\n",
    "plt.title(\"City Latitude vs Cloudiness\")\n",
    "plt.xlabel(\"Latitude\")\n",
    "plt.ylabel(\"Cloudiness (%)\")\n",
    "plt.show()\n",
    "plt.savefig(\"latitude_vs_cloudiness.png\")"
   ]
  },
  {
   "cell_type": "markdown",
   "metadata": {},
   "source": [
    "## Latitude vs. Wind Speed Plot"
   ]
  },
  {
   "cell_type": "code",
   "execution_count": 12,
   "metadata": {},
   "outputs": [
    {
     "data": {
      "image/png": "[encoded data removed]",
      "text/plain": [
       "<Figure size 432x288 with 1 Axes>"
      ]
     },
     "metadata": {
      "needs_background": "light"
     },
     "output_type": "display_data"
    },
    {
     "data": {
      "text/plain": [
       "<Figure size 432x288 with 0 Axes>"
      ]
     },
     "metadata": {},
     "output_type": "display_data"
    }
   ],
   "source": [
    "# Make a scatter plot showing latitude vs humidity using the clean_city_data\n",
    "# Store the x and y axis as variables from the very beginning\n",
    "# Use proper labels on x and y axis, store the plot as a PNG image\n",
    "x_axis = clean_city_data[\"Lat\"]\n",
    "y_axis = clean_city_data[\"Wind Speed\"]\n",
    "plt.scatter(x_axis, y_axis, marker=\"o\", color=\"red\",)\n",
    "plt.grid()\n",
    "plt.title(\"City Latitude vs Wind Speed\")\n",
    "plt.xlabel(\"Latitude\")\n",
    "plt.ylabel(\"Wind Speed (mph)\")\n",
    "plt.show()\n",
    "plt.savefig(\"latitude_vs_wind_speed.png\")"
   ]
  },
  {
   "cell_type": "markdown",
   "metadata": {},
   "source": [
    "## Linear Regression"
   ]
  },
  {
   "cell_type": "code",
   "execution_count": 13,
   "metadata": {},
   "outputs": [
    {
     "name": "stdout",
     "output_type": "stream",
     "text": [
      "The correlation coefficient is -0.865 for the northern hemisphere maximum temperatures.\n",
      "The correlation coefficient is 0.6 for the southern hemisphere maximum temperatures.\n",
      "-----------------------\n",
      "The least squares regression line for northern hemisphere cities is given by y = -1.11x +91.77.\n",
      "The least squares regression line for southern hemisphere cities is given by y = 0.42x +80.8.\n"
     ]
    }
   ],
   "source": [
    "# Calculate the linear regression model for the northern hemisphere and southern hemishpere separately\n",
    "# Use the loc on latitude to find the cities that have latitude greater than 0 (north) and less than 0 (south)\n",
    "x_values_north = clean_city_data.loc[clean_city_data[\"Lat\"] > 0][\"Lat\"]\n",
    "y_values_north = clean_city_data.loc[clean_city_data[\"Lat\"] > 0][\"Max Temp\"]\n",
    "x_values_south = clean_city_data.loc[clean_city_data[\"Lat\"] < 0][\"Lat\"]\n",
    "y_values_south = clean_city_data.loc[clean_city_data[\"Lat\"] < 0][\"Max Temp\"]\n",
    "\n",
    "# Perform the linear regression using linregress on the north values and then on the south values\n",
    "(slope_north_temp, int_north_temp, rvalue_north_temp, pvalue_north_temp, stderr_north_temp) = linregress(x_values_north, y_values_north)\n",
    "(slope_south_temp, int_south_temp, rvalue_south_temp, pvalue_south_temp, stderr_south_temp) = linregress(x_values_south, y_values_south)\n",
    "\n",
    "# Print out a statement for the correlation coefficient\n",
    "print(f\"The correlation coefficient is {round(rvalue_north_temp,3)} for the northern hemisphere maximum temperatures.\")\n",
    "print(f\"The correlation coefficient is {round(rvalue_south_temp,3)} for the southern hemisphere maximum temperatures.\")\n",
    "print(\"-----------------------\")\n",
    "\n",
    "# Print out the two equations for the linear model\n",
    "regress_values_north = x_values_north * slope_north_temp + int_north_temp\n",
    "line_eq_north = \"y = \" + str(round(slope_north_temp,2)) + \"x +\" + str(round(int_north_temp,2))\n",
    "print(f\"The least squares regression line for northern hemisphere cities is given by {line_eq_north}.\")\n",
    "regress_values_south = x_values_south * slope_south_temp + int_south_temp\n",
    "line_eq_south = \"y = \" + str(round(slope_south_temp,2)) + \"x +\" + str(round(int_south_temp,2))\n",
    "print(f\"The least squares regression line for southern hemisphere cities is given by {line_eq_south}.\")"
   ]
  },
  {
   "cell_type": "markdown",
   "metadata": {},
   "source": [
    "####  Northern Hemisphere - Max Temp vs. Latitude Linear Regression"
   ]
  },
  {
   "cell_type": "code",
   "execution_count": 14,
   "metadata": {},
   "outputs": [
    {
     "name": "stdout",
     "output_type": "stream",
     "text": [
      "The r-value is: -0.8652049603164748\n"
     ]
    },
    {
     "data": {
      "image/png": "[encoded data removed]",
      "text/plain": [
       "<Figure size 432x288 with 1 Axes>"
      ]
     },
     "metadata": {
      "needs_background": "light"
     },
     "output_type": "display_data"
    },
    {
     "data": {
      "text/plain": [
       "<Figure size 432x288 with 0 Axes>"
      ]
     },
     "metadata": {},
     "output_type": "display_data"
    }
   ],
   "source": [
    "# Create scatter plot for the northern hemisphere cities measuring the latitude vs max temperature\n",
    "# Include the line of best fit on the plot as well\n",
    "print(f\"The r-value is: {rvalue_north_temp}\")\n",
    "plt.scatter(x_values_north, y_values_north, marker=\"o\", color=\"red\")\n",
    "plt.xlabel(\"Latitude\")\n",
    "plt.ylabel(\"Max Temperature (F)\")\n",
    "plt.plot(x_values_north, regress_values_north, \"b-\")\n",
    "plt.annotate(line_eq_north,(5,0),fontsize=15,color=\"blue\")\n",
    "plt.show()\n",
    "plt.savefig(\"northern_latitude_vs_temperature.png\")"
   ]
  },
  {
   "cell_type": "markdown",
   "metadata": {},
   "source": [
    "####  Southern Hemisphere - Max Temp vs. Latitude Linear Regression"
   ]
  },
  {
   "cell_type": "code",
   "execution_count": 15,
   "metadata": {},
   "outputs": [
    {
     "name": "stdout",
     "output_type": "stream",
     "text": [
      "The r-value is: 0.5996129997375301\n"
     ]
    },
    {
     "data": {
      "image/png": "[encoded data removed]",
      "text/plain": [
       "<Figure size 432x288 with 1 Axes>"
      ]
     },
     "metadata": {
      "needs_background": "light"
     },
     "output_type": "display_data"
    },
    {
     "data": {
      "text/plain": [
       "<Figure size 432x288 with 0 Axes>"
      ]
     },
     "metadata": {},
     "output_type": "display_data"
    }
   ],
   "source": [
    "# Create scatter plot for the southern hemisphere cities measuring the latitude vs max temperature\n",
    "# Include the line of best fit on the plot as well\n",
    "print(f\"The r-value is: {rvalue_south_temp}\")\n",
    "plt.scatter(x_values_south, y_values_south, marker=\"o\", color=\"blue\")\n",
    "plt.xlabel(\"Latitude\")\n",
    "plt.ylabel(\"Max Temperature (F)\")\n",
    "plt.plot(x_values_south, regress_values_south, \"r-\")\n",
    "plt.annotate(line_eq_south,(-55,90),fontsize=15,color=\"red\")\n",
    "plt.show()\n",
    "plt.savefig(\"southern_latitude_vs_temperature.png\")"
   ]
  },
  {
   "cell_type": "markdown",
   "metadata": {},
   "source": [
    "####  Northern Hemisphere - Humidity (%) vs. Latitude Linear Regression"
   ]
  },
  {
   "cell_type": "code",
   "execution_count": 16,
   "metadata": {},
   "outputs": [
    {
     "name": "stdout",
     "output_type": "stream",
     "text": [
      "The r-value is: 0.33765909440058756\n"
     ]
    },
    {
     "data": {
      "image/png": "[encoded data removed]",
      "text/plain": [
       "<Figure size 432x288 with 1 Axes>"
      ]
     },
     "metadata": {
      "needs_background": "light"
     },
     "output_type": "display_data"
    },
    {
     "data": {
      "text/plain": [
       "<Figure size 432x288 with 0 Axes>"
      ]
     },
     "metadata": {},
     "output_type": "display_data"
    }
   ],
   "source": [
    "# Calculate the linear regression model for humidity in northern hemisphere\n",
    "x_values = clean_city_data.loc[clean_city_data[\"Lat\"] > 0][\"Lat\"]\n",
    "y_values = clean_city_data.loc[clean_city_data[\"Lat\"] > 0][\"Humidity\"]\n",
    "\n",
    "# Perform the linear regression using linregress\n",
    "(slope, intercept, rvalue, pvalue, stderr) = linregress(x_values, y_values)\n",
    "\n",
    "# Create the equation for the linear model\n",
    "regress_values = x_values * slope + intercept\n",
    "line_eq = \"y = \" + str(round(slope,2)) + \"x +\" + str(round(intercept,2))\n",
    "\n",
    "# Print the r-value\n",
    "print(f\"The r-value is: {rvalue}\")\n",
    "\n",
    "# Create the scatter plot with titles and linear equation on plot\n",
    "plt.scatter(x_values, y_values, marker=\"o\", color=\"red\")\n",
    "plt.xlabel(\"Latitude\")\n",
    "plt.ylabel(\"Humidity (%)\")\n",
    "plt.plot(x_values, regress_values, \"b-\")\n",
    "plt.annotate(line_eq, (45,30), fontsize=15, color=\"blue\")\n",
    "plt.show()\n",
    "plt.savefig(\"northern_latitude_vs_humidity.png\")"
   ]
  },
  {
   "cell_type": "markdown",
   "metadata": {},
   "source": [
    "####  Southern Hemisphere - Humidity (%) vs. Latitude Linear Regression"
   ]
  },
  {
   "cell_type": "code",
   "execution_count": 17,
   "metadata": {},
   "outputs": [
    {
     "name": "stdout",
     "output_type": "stream",
     "text": [
      "The r-value is: 0.27348372242785546\n"
     ]
    },
    {
     "data": {
      "image/png": "[encoded data removed]",
      "text/plain": [
       "<Figure size 432x288 with 1 Axes>"
      ]
     },
     "metadata": {
      "needs_background": "light"
     },
     "output_type": "display_data"
    },
    {
     "data": {
      "text/plain": [
       "<Figure size 432x288 with 0 Axes>"
      ]
     },
     "metadata": {},
     "output_type": "display_data"
    }
   ],
   "source": [
    "# Calculate the linear regression model for humidity in southern hemisphere\n",
    "x_values = clean_city_data.loc[clean_city_data[\"Lat\"] < 0][\"Lat\"]\n",
    "y_values = clean_city_data.loc[clean_city_data[\"Lat\"] < 0][\"Humidity\"]\n",
    "\n",
    "# Perform the linear regression using linregress\n",
    "(slope, intercept, rvalue, pvalue, stderr) = linregress(x_values, y_values)\n",
    "\n",
    "# Create the equation for the linear model\n",
    "regress_values = x_values * slope + intercept\n",
    "line_eq = \"y = \" + str(round(slope,2)) + \"x +\" + str(round(intercept,2))\n",
    "\n",
    "# Print the r-value\n",
    "print(f\"The r-value is: {rvalue}\")\n",
    "\n",
    "# Create the scatter plot with titles and linear equation on plot\n",
    "plt.scatter(x_values, y_values, marker=\"o\", color=\"blue\")\n",
    "plt.xlabel(\"Latitude\")\n",
    "plt.ylabel(\"Humidity (%)\")\n",
    "plt.plot(x_values, regress_values, \"r-\")\n",
    "plt.annotate(line_eq, (-55,35), fontsize=15, color=\"red\")\n",
    "plt.show()\n",
    "plt.savefig(\"southern_latitude_vs_humidity.png\")"
   ]
  },
  {
   "cell_type": "markdown",
   "metadata": {},
   "source": [
    "####  Northern Hemisphere - Cloudiness (%) vs. Latitude Linear Regression"
   ]
  },
  {
   "cell_type": "code",
   "execution_count": 18,
   "metadata": {},
   "outputs": [
    {
     "name": "stdout",
     "output_type": "stream",
     "text": [
      "The r-value is: 0.36076686025361787\n"
     ]
    },
    {
     "data": {
      "image/png": "[encoded data removed]",
      "text/plain": [
       "<Figure size 432x288 with 1 Axes>"
      ]
     },
     "metadata": {
      "needs_background": "light"
     },
     "output_type": "display_data"
    },
    {
     "data": {
      "text/plain": [
       "<Figure size 432x288 with 0 Axes>"
      ]
     },
     "metadata": {},
     "output_type": "display_data"
    }
   ],
   "source": [
    "# Calculate the linear regression model for cloudiness in northern hemisphere\n",
    "x_values = clean_city_data.loc[clean_city_data[\"Lat\"] > 0][\"Lat\"]\n",
    "y_values = clean_city_data.loc[clean_city_data[\"Lat\"] > 0][\"Cloudiness\"]\n",
    "\n",
    "# Perform the linear regression using linregress\n",
    "(slope, intercept, rvalue, pvalue, stderr) = linregress(x_values, y_values)\n",
    "\n",
    "# Create the equation for the linear model\n",
    "regress_values = x_values * slope + intercept\n",
    "line_eq = \"y = \" + str(round(slope,2)) + \"x +\" + str(round(intercept,2))\n",
    "\n",
    "# Print the r-value\n",
    "print(f\"The r-value is: {rvalue}\")\n",
    "\n",
    "# Create the scatter plot with titles and linear equation on plot\n",
    "plt.scatter(x_values, y_values, marker=\"o\", color=\"red\")\n",
    "plt.xlabel(\"Latitude\")\n",
    "plt.ylabel(\"Cloudiness (%)\")\n",
    "plt.plot(x_values, regress_values, \"b-\")\n",
    "plt.annotate(line_eq, (45,25), fontsize=15, color=\"blue\")\n",
    "plt.show()\n",
    "plt.savefig(\"northern_latitude_vs_cloudiness.png\")"
   ]
  },
  {
   "cell_type": "markdown",
   "metadata": {},
   "source": [
    "####  Southern Hemisphere - Cloudiness (%) vs. Latitude Linear Regression"
   ]
  },
  {
   "cell_type": "code",
   "execution_count": 19,
   "metadata": {},
   "outputs": [
    {
     "name": "stdout",
     "output_type": "stream",
     "text": [
      "The r-value is: 0.2521368745622679\n"
     ]
    },
    {
     "data": {
      "image/png": "[encoded data removed]",
      "text/plain": [
       "<Figure size 432x288 with 1 Axes>"
      ]
     },
     "metadata": {
      "needs_background": "light"
     },
     "output_type": "display_data"
    },
    {
     "data": {
      "text/plain": [
       "<Figure size 432x288 with 0 Axes>"
      ]
     },
     "metadata": {},
     "output_type": "display_data"
    }
   ],
   "source": [
    "# Calculate the linear regression model for cloudiness in southern hemisphere\n",
    "x_values = clean_city_data.loc[clean_city_data[\"Lat\"] < 0][\"Lat\"]\n",
    "y_values = clean_city_data.loc[clean_city_data[\"Lat\"] < 0][\"Cloudiness\"]\n",
    "\n",
    "# Perform the linear regression using linregress\n",
    "(slope, intercept, rvalue, pvalue, stderr) = linregress(x_values, y_values)\n",
    "\n",
    "# Create the equation for the linear model\n",
    "regress_values = x_values * slope + intercept\n",
    "line_eq = \"y = \" + str(round(slope,2)) + \"x +\" + str(round(intercept,2))\n",
    "\n",
    "# Print the r-value\n",
    "print(f\"The r-value is: {rvalue}\")\n",
    "\n",
    "# Create the scatter plot with titles and linear equation on plot\n",
    "plt.scatter(x_values, y_values, marker=\"o\", color=\"blue\")\n",
    "plt.xlabel(\"Latitude\")\n",
    "plt.ylabel(\"Cloudiness (%)\")\n",
    "plt.plot(x_values, regress_values, \"r-\")\n",
    "plt.annotate(line_eq, (-55,50), fontsize=15, color=\"red\")\n",
    "plt.show()\n",
    "plt.savefig(\"southern_latitude_vs_cloudiness.png\")"
   ]
  },
  {
   "cell_type": "markdown",
   "metadata": {},
   "source": [
    "####  Northern Hemisphere - Wind Speed (mph) vs. Latitude Linear Regression"
   ]
  },
  {
   "cell_type": "code",
   "execution_count": 20,
   "metadata": {},
   "outputs": [
    {
     "name": "stdout",
     "output_type": "stream",
     "text": [
      "The r-value is: 0.175051470184961\n"
     ]
    },
    {
     "data": {
      "image/png": "[encoded data removed]",
      "text/plain": [
       "<Figure size 432x288 with 1 Axes>"
      ]
     },
     "metadata": {
      "needs_background": "light"
     },
     "output_type": "display_data"
    },
    {
     "data": {
      "text/plain": [
       "<Figure size 432x288 with 0 Axes>"
      ]
     },
     "metadata": {},
     "output_type": "display_data"
    }
   ],
   "source": [
    "# Calculate the linear regression model for wind speed in northern hemisphere\n",
    "x_values = clean_city_data.loc[clean_city_data[\"Lat\"] > 0][\"Lat\"]\n",
    "y_values = clean_city_data.loc[clean_city_data[\"Lat\"] > 0][\"Wind Speed\"]\n",
    "\n",
    "# Perform the linear regression using linregress\n",
    "(slope, intercept, rvalue, pvalue, stderr) = linregress(x_values, y_values)\n",
    "\n",
    "# Create the equation for the linear model\n",
    "regress_values = x_values * slope + intercept\n",
    "line_eq = \"y = \" + str(round(slope,2)) + \"x +\" + str(round(intercept,2))\n",
    "\n",
    "# Print the r-value\n",
    "print(f\"The r-value is: {rvalue}\")\n",
    "\n",
    "# Create the scatter plot with titles and linear equation on plot\n",
    "plt.scatter(x_values, y_values, marker=\"o\", color=\"red\")\n",
    "plt.xlabel(\"Latitude\")\n",
    "plt.ylabel(\"Wind Speed (mph)\")\n",
    "plt.plot(x_values, regress_values, \"b-\")\n",
    "plt.annotate(line_eq, (0,22), fontsize=15, color=\"blue\")\n",
    "plt.show()\n",
    "plt.savefig(\"northern_latitude_vs_wind_speed.png\")"
   ]
  },
  {
   "cell_type": "markdown",
   "metadata": {},
   "source": [
    "####  Southern Hemisphere - Wind Speed (mph) vs. Latitude Linear Regression"
   ]
  },
  {
   "cell_type": "code",
   "execution_count": 21,
   "metadata": {},
   "outputs": [
    {
     "name": "stdout",
     "output_type": "stream",
     "text": [
      "The r-value is: -0.3165703176124164\n"
     ]
    },
    {
     "data": {
      "image/png": "[encoded data removed]",
      "text/plain": [
       "<Figure size 432x288 with 1 Axes>"
      ]
     },
     "metadata": {
      "needs_background": "light"
     },
     "output_type": "display_data"
    },
    {
     "data": {
      "text/plain": [
       "<Figure size 432x288 with 0 Axes>"
      ]
     },
     "metadata": {},
     "output_type": "display_data"
    }
   ],
   "source": [
    "# Calculate the linear regression model for wind speed in southern hemisphere\n",
    "x_values = clean_city_data.loc[clean_city_data[\"Lat\"] < 0][\"Lat\"]\n",
    "y_values = clean_city_data.loc[clean_city_data[\"Lat\"] < 0][\"Wind Speed\"]\n",
    "\n",
    "# Perform the linear regression using linregress\n",
    "(slope, intercept, rvalue, pvalue, stderr) = linregress(x_values, y_values)\n",
    "\n",
    "# Create the equation for the linear model\n",
    "regress_values = x_values * slope + intercept\n",
    "line_eq = \"y = \" + str(round(slope,2)) + \"x +\" + str(round(intercept,2))\n",
    "\n",
    "# Print the r-value\n",
    "print(f\"The r-value is: {rvalue}\")\n",
    "\n",
    "# Create the scatter plot with titles and linear equation on plot\n",
    "plt.scatter(x_values, y_values, marker=\"o\", color=\"blue\")\n",
    "plt.xlabel(\"Latitude\")\n",
    "plt.ylabel(\"Wind Speed (mph)\")\n",
    "plt.plot(x_values, regress_values, \"r-\")\n",
    "plt.annotate(line_eq, (-55,13), fontsize=15, color=\"red\")\n",
    "plt.show()\n",
    "plt.savefig(\"southern_latitude_vs_wind_speed.png\")"
   ]
  },
  {
   "cell_type": "code",
   "execution_count": null,
   "metadata": {},
   "outputs": [],
   "source": []
  }
 ],
 "metadata": {
  "anaconda-cloud": {},
  "kernel_info": {
   "name": "python3"
  },
  "kernelspec": {
   "display_name": "Python [conda env:Data_Analytics] *",
   "language": "python",
   "name": "conda-env-Data_Analytics-py"
  },
  "language_info": {
   "codemirror_mode": {
    "name": "ipython",
    "version": 3
   },
   "file_extension": ".py",
   "mimetype": "text/x-python",
   "name": "python",
   "nbconvert_exporter": "python",
   "pygments_lexer": "ipython3",
   "version": "3.8.3"
  },
  "latex_envs": {
   "LaTeX_envs_menu_present": true,
   "autoclose": false,
   "autocomplete": true,
   "bibliofile": "biblio.bib",
   "cite_by": "apalike",
   "current_citInitial": 1,
   "eqLabelWithNumbers": true,
   "eqNumInitial": 1,
   "hotkeys": {
    "equation": "Ctrl-E",
    "itemize": "Ctrl-I"
   },
   "labels_anchors": false,
   "latex_user_defs": false,
   "report_style_numbering": false,
   "user_envs_cfg": false
  },
  "nteract": {
   "version": "0.12.3"
  }
 },
 "nbformat": 4,
 "nbformat_minor": 2
}
